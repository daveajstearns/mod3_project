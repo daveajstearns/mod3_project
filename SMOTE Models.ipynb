{
 "cells": [
  {
   "cell_type": "code",
   "execution_count": 1,
   "metadata": {},
   "outputs": [],
   "source": [
    "import pandas as pd\n",
    "import numpy as np\n",
    "import warnings\n",
    "warnings.filterwarnings('ignore')\n",
    "pd.set_option('display.max_columns', None)\n",
    "from sklearn.model_selection import train_test_split\n",
    "from sklearn.preprocessing import PolynomialFeatures\n",
    "import matplotlib.pyplot as plt\n",
    "import seaborn as sns\n",
    "%matplotlib inline\n",
    "from sklearn import metrics\n",
    "from sklearn.preprocessing import StandardScaler\n",
    "from sklearn.preprocessing import MinMaxScaler\n",
    "from sklearn.linear_model import LogisticRegression\n",
    "from sklearn.metrics import classification_report\n",
    "from sklearn.metrics import roc_curve, auc\n",
    "from sklearn.neighbors import KNeighborsClassifier\n",
    "from sklearn.tree import DecisionTreeClassifier\n",
    "from sklearn.linear_model import LogisticRegressionCV\n",
    "from sklearn.metrics import precision_score, recall_score, f1_score\n",
    "from sklearn.model_selection import cross_val_score\n",
    "from sklearn.model_selection import cross_validate\n",
    "from sklearn.feature_selection import RFECV\n",
    "from sklearn.model_selection import GridSearchCV\n",
    "#%run -i 'functions.py'\n",
    "from sklearn.ensemble import RandomForestClassifier\n",
    "from sklearn.metrics import accuracy_score, f1_score, recall_score, precision_score\n",
    "from pprint import pprint\n",
    "from sklearn.metrics import confusion_matrix\n",
    "import itertools\n",
    "from imblearn.over_sampling import SMOTE"
   ]
  },
  {
   "cell_type": "code",
   "execution_count": 2,
   "metadata": {},
   "outputs": [
    {
     "data": {
      "text/html": [
       "<div>\n",
       "<style scoped>\n",
       "    .dataframe tbody tr th:only-of-type {\n",
       "        vertical-align: middle;\n",
       "    }\n",
       "\n",
       "    .dataframe tbody tr th {\n",
       "        vertical-align: top;\n",
       "    }\n",
       "\n",
       "    .dataframe thead th {\n",
       "        text-align: right;\n",
       "    }\n",
       "</style>\n",
       "<table border=\"1\" class=\"dataframe\">\n",
       "  <thead>\n",
       "    <tr style=\"text-align: right;\">\n",
       "      <th></th>\n",
       "      <th>Unnamed: 0</th>\n",
       "      <th>accident_severity</th>\n",
       "      <th>number_of_vehicles</th>\n",
       "      <th>number_of_casualties</th>\n",
       "      <th>day_of_week</th>\n",
       "      <th>time</th>\n",
       "      <th>road_class</th>\n",
       "      <th>road_type</th>\n",
       "      <th>speed_limit</th>\n",
       "      <th>junction_control</th>\n",
       "      <th>crossguard</th>\n",
       "      <th>ped_crossway</th>\n",
       "      <th>light_conditions</th>\n",
       "      <th>weather_conditions</th>\n",
       "      <th>road_surface_conditions</th>\n",
       "      <th>special_conditions_at_site</th>\n",
       "      <th>road_hazard</th>\n",
       "      <th>urban_or_rural_area</th>\n",
       "      <th>did_police_officer_attend_scene_of_accident</th>\n",
       "      <th>coordinates</th>\n",
       "      <th>vehicle_type</th>\n",
       "      <th>trailer</th>\n",
       "      <th>vehicle_activity</th>\n",
       "      <th>in_restricted_lane</th>\n",
       "      <th>vehicle_action</th>\n",
       "      <th>vehicle_loc_post_impact</th>\n",
       "      <th>impact_type</th>\n",
       "      <th>was_vehicle_left_hand_drive?</th>\n",
       "      <th>journey_purpose_of_driver</th>\n",
       "      <th>sex_of_driver</th>\n",
       "      <th>age_driver</th>\n",
       "      <th>age_bin_driver</th>\n",
       "      <th>propulsion</th>\n",
       "      <th>age_of_vehicle</th>\n",
       "      <th>socioeconomic_status</th>\n",
       "      <th>driver_residence</th>\n",
       "      <th>car_status</th>\n",
       "      <th>season</th>\n",
       "    </tr>\n",
       "  </thead>\n",
       "  <tbody>\n",
       "    <tr>\n",
       "      <td>0</td>\n",
       "      <td>0</td>\n",
       "      <td>minor</td>\n",
       "      <td>2</td>\n",
       "      <td>1</td>\n",
       "      <td>Monday</td>\n",
       "      <td>midnight</td>\n",
       "      <td>A_road</td>\n",
       "      <td>single_lane</td>\n",
       "      <td>20</td>\n",
       "      <td>yield</td>\n",
       "      <td>0</td>\n",
       "      <td>ped_light</td>\n",
       "      <td>1</td>\n",
       "      <td>clear</td>\n",
       "      <td>1</td>\n",
       "      <td>0</td>\n",
       "      <td>0</td>\n",
       "      <td>1</td>\n",
       "      <td>1</td>\n",
       "      <td>(51.529746, -0.102474)</td>\n",
       "      <td>taxi</td>\n",
       "      <td>0</td>\n",
       "      <td>turn_left</td>\n",
       "      <td>0</td>\n",
       "      <td>none</td>\n",
       "      <td>on_road</td>\n",
       "      <td>front</td>\n",
       "      <td>1</td>\n",
       "      <td>work</td>\n",
       "      <td>1</td>\n",
       "      <td>40</td>\n",
       "      <td>7</td>\n",
       "      <td>hybrid/electric</td>\n",
       "      <td>6</td>\n",
       "      <td>low</td>\n",
       "      <td>city</td>\n",
       "      <td>poor</td>\n",
       "      <td>winter</td>\n",
       "    </tr>\n",
       "    <tr>\n",
       "      <td>1</td>\n",
       "      <td>1</td>\n",
       "      <td>severe</td>\n",
       "      <td>2</td>\n",
       "      <td>1</td>\n",
       "      <td>Monday</td>\n",
       "      <td>late_night</td>\n",
       "      <td>B_road</td>\n",
       "      <td>two_lane</td>\n",
       "      <td>30</td>\n",
       "      <td>traffic_light</td>\n",
       "      <td>0</td>\n",
       "      <td>ped_light</td>\n",
       "      <td>1</td>\n",
       "      <td>rain</td>\n",
       "      <td>0</td>\n",
       "      <td>0</td>\n",
       "      <td>0</td>\n",
       "      <td>1</td>\n",
       "      <td>1</td>\n",
       "      <td>(51.530179, 0.037828)</td>\n",
       "      <td>car</td>\n",
       "      <td>0</td>\n",
       "      <td>turn_right</td>\n",
       "      <td>0</td>\n",
       "      <td>none</td>\n",
       "      <td>on_road</td>\n",
       "      <td>front</td>\n",
       "      <td>1</td>\n",
       "      <td>Unknown</td>\n",
       "      <td>1</td>\n",
       "      <td>27</td>\n",
       "      <td>6</td>\n",
       "      <td>petrol</td>\n",
       "      <td>1</td>\n",
       "      <td>middle</td>\n",
       "      <td>city</td>\n",
       "      <td>good</td>\n",
       "      <td>winter</td>\n",
       "    </tr>\n",
       "    <tr>\n",
       "      <td>2</td>\n",
       "      <td>2</td>\n",
       "      <td>severe</td>\n",
       "      <td>2</td>\n",
       "      <td>1</td>\n",
       "      <td>Monday</td>\n",
       "      <td>early_morning</td>\n",
       "      <td>C_road</td>\n",
       "      <td>single_lane</td>\n",
       "      <td>30</td>\n",
       "      <td>yield</td>\n",
       "      <td>0</td>\n",
       "      <td>none</td>\n",
       "      <td>1</td>\n",
       "      <td>clear</td>\n",
       "      <td>1</td>\n",
       "      <td>0</td>\n",
       "      <td>0</td>\n",
       "      <td>1</td>\n",
       "      <td>1</td>\n",
       "      <td>(51.514545, -0.199239)</td>\n",
       "      <td>taxi</td>\n",
       "      <td>0</td>\n",
       "      <td>exiting</td>\n",
       "      <td>0</td>\n",
       "      <td>none</td>\n",
       "      <td>on_road</td>\n",
       "      <td>front</td>\n",
       "      <td>1</td>\n",
       "      <td>work</td>\n",
       "      <td>1</td>\n",
       "      <td>66</td>\n",
       "      <td>10</td>\n",
       "      <td>electric</td>\n",
       "      <td>5</td>\n",
       "      <td>low</td>\n",
       "      <td>city</td>\n",
       "      <td>poor</td>\n",
       "      <td>winter</td>\n",
       "    </tr>\n",
       "    <tr>\n",
       "      <td>3</td>\n",
       "      <td>3</td>\n",
       "      <td>minor</td>\n",
       "      <td>3</td>\n",
       "      <td>1</td>\n",
       "      <td>Monday</td>\n",
       "      <td>early_morning</td>\n",
       "      <td>A_road</td>\n",
       "      <td>one_way</td>\n",
       "      <td>30</td>\n",
       "      <td>yield</td>\n",
       "      <td>0</td>\n",
       "      <td>none</td>\n",
       "      <td>1</td>\n",
       "      <td>clear</td>\n",
       "      <td>1</td>\n",
       "      <td>0</td>\n",
       "      <td>0</td>\n",
       "      <td>1</td>\n",
       "      <td>1</td>\n",
       "      <td>(51.475091, -0.032886)</td>\n",
       "      <td>taxi</td>\n",
       "      <td>0</td>\n",
       "      <td>driving</td>\n",
       "      <td>0</td>\n",
       "      <td>none</td>\n",
       "      <td>on_road</td>\n",
       "      <td>back</td>\n",
       "      <td>1</td>\n",
       "      <td>work</td>\n",
       "      <td>2</td>\n",
       "      <td>36</td>\n",
       "      <td>7</td>\n",
       "      <td>hybrid/electric</td>\n",
       "      <td>2</td>\n",
       "      <td>low</td>\n",
       "      <td>city</td>\n",
       "      <td>poor</td>\n",
       "      <td>winter</td>\n",
       "    </tr>\n",
       "    <tr>\n",
       "      <td>4</td>\n",
       "      <td>4</td>\n",
       "      <td>minor</td>\n",
       "      <td>2</td>\n",
       "      <td>1</td>\n",
       "      <td>Monday</td>\n",
       "      <td>midnight</td>\n",
       "      <td>Unclassified</td>\n",
       "      <td>single_lane</td>\n",
       "      <td>30</td>\n",
       "      <td>yield</td>\n",
       "      <td>0</td>\n",
       "      <td>cross_walk</td>\n",
       "      <td>1</td>\n",
       "      <td>clear</td>\n",
       "      <td>1</td>\n",
       "      <td>0</td>\n",
       "      <td>0</td>\n",
       "      <td>1</td>\n",
       "      <td>1</td>\n",
       "      <td>(51.56325, -0.311872)</td>\n",
       "      <td>car</td>\n",
       "      <td>0</td>\n",
       "      <td>turn_right</td>\n",
       "      <td>0</td>\n",
       "      <td>none</td>\n",
       "      <td>on_road</td>\n",
       "      <td>front</td>\n",
       "      <td>1</td>\n",
       "      <td>Unknown</td>\n",
       "      <td>1</td>\n",
       "      <td>24</td>\n",
       "      <td>5</td>\n",
       "      <td>petrol</td>\n",
       "      <td>9</td>\n",
       "      <td>low</td>\n",
       "      <td>city</td>\n",
       "      <td>okay</td>\n",
       "      <td>winter</td>\n",
       "    </tr>\n",
       "  </tbody>\n",
       "</table>\n",
       "</div>"
      ],
      "text/plain": [
       "   Unnamed: 0 accident_severity  number_of_vehicles  number_of_casualties  \\\n",
       "0           0             minor                   2                     1   \n",
       "1           1            severe                   2                     1   \n",
       "2           2            severe                   2                     1   \n",
       "3           3             minor                   3                     1   \n",
       "4           4             minor                   2                     1   \n",
       "\n",
       "  day_of_week           time    road_class    road_type  speed_limit  \\\n",
       "0      Monday       midnight        A_road  single_lane           20   \n",
       "1      Monday     late_night        B_road     two_lane           30   \n",
       "2      Monday  early_morning        C_road  single_lane           30   \n",
       "3      Monday  early_morning        A_road      one_way           30   \n",
       "4      Monday       midnight  Unclassified  single_lane           30   \n",
       "\n",
       "  junction_control  crossguard ped_crossway  light_conditions  \\\n",
       "0            yield           0    ped_light                 1   \n",
       "1    traffic_light           0    ped_light                 1   \n",
       "2            yield           0         none                 1   \n",
       "3            yield           0         none                 1   \n",
       "4            yield           0   cross_walk                 1   \n",
       "\n",
       "  weather_conditions  road_surface_conditions  special_conditions_at_site  \\\n",
       "0              clear                        1                           0   \n",
       "1               rain                        0                           0   \n",
       "2              clear                        1                           0   \n",
       "3              clear                        1                           0   \n",
       "4              clear                        1                           0   \n",
       "\n",
       "   road_hazard  urban_or_rural_area  \\\n",
       "0            0                    1   \n",
       "1            0                    1   \n",
       "2            0                    1   \n",
       "3            0                    1   \n",
       "4            0                    1   \n",
       "\n",
       "   did_police_officer_attend_scene_of_accident             coordinates  \\\n",
       "0                                            1  (51.529746, -0.102474)   \n",
       "1                                            1   (51.530179, 0.037828)   \n",
       "2                                            1  (51.514545, -0.199239)   \n",
       "3                                            1  (51.475091, -0.032886)   \n",
       "4                                            1   (51.56325, -0.311872)   \n",
       "\n",
       "  vehicle_type  trailer vehicle_activity  in_restricted_lane vehicle_action  \\\n",
       "0         taxi        0        turn_left                   0           none   \n",
       "1          car        0       turn_right                   0           none   \n",
       "2         taxi        0          exiting                   0           none   \n",
       "3         taxi        0          driving                   0           none   \n",
       "4          car        0       turn_right                   0           none   \n",
       "\n",
       "  vehicle_loc_post_impact impact_type  was_vehicle_left_hand_drive?  \\\n",
       "0                 on_road       front                             1   \n",
       "1                 on_road       front                             1   \n",
       "2                 on_road       front                             1   \n",
       "3                 on_road        back                             1   \n",
       "4                 on_road       front                             1   \n",
       "\n",
       "  journey_purpose_of_driver  sex_of_driver  age_driver  age_bin_driver  \\\n",
       "0                      work              1          40               7   \n",
       "1                   Unknown              1          27               6   \n",
       "2                      work              1          66              10   \n",
       "3                      work              2          36               7   \n",
       "4                   Unknown              1          24               5   \n",
       "\n",
       "        propulsion  age_of_vehicle socioeconomic_status driver_residence  \\\n",
       "0  hybrid/electric               6                  low             city   \n",
       "1           petrol               1               middle             city   \n",
       "2         electric               5                  low             city   \n",
       "3  hybrid/electric               2                  low             city   \n",
       "4           petrol               9                  low             city   \n",
       "\n",
       "  car_status  season  \n",
       "0       poor  winter  \n",
       "1       good  winter  \n",
       "2       poor  winter  \n",
       "3       poor  winter  \n",
       "4       okay  winter  "
      ]
     },
     "execution_count": 2,
     "metadata": {},
     "output_type": "execute_result"
    }
   ],
   "source": [
    "pd.set_option('display.max_columns', None)\n",
    "master = pd.read_csv('final_data.csv')\n",
    "master.head()"
   ]
  },
  {
   "cell_type": "code",
   "execution_count": 3,
   "metadata": {},
   "outputs": [],
   "source": [
    "master.drop(['Unnamed: 0'],axis=1 , inplace=True)"
   ]
  },
  {
   "cell_type": "code",
   "execution_count": 4,
   "metadata": {},
   "outputs": [],
   "source": [
    "master['accident_severity'] = pd.factorize(master['accident_severity'])[0]+1\n",
    "master['day_of_week'] = pd.factorize(master['day_of_week'])[0]+1\n",
    "master['time'] = pd.factorize(master['time'])[0]+1\n",
    "master['road_class'] = pd.factorize(master['road_class'])[0]+1\n",
    "master['junction_control'] = pd.factorize(master['junction_control'])[0]+1\n",
    "master['ped_crossway'] = pd.factorize(master['ped_crossway'])[0]+1\n",
    "master['weather_conditions'] = pd.factorize(master['weather_conditions'])[0]+1\n",
    "master['vehicle_type'] = pd.factorize(master['vehicle_type'])[0]+1\n",
    "master['vehicle_activity'] = pd.factorize(master['accident_severity'])[0]+1\n",
    "master['vehicle_action'] = pd.factorize(master['vehicle_action'])[0]+1\n",
    "master['vehicle_loc_post_impact'] = pd.factorize(master['accident_severity'])[0]+1\n",
    "master['impact_type'] = pd.factorize(master['impact_type'])[0]+1\n",
    "master['journey_purpose_of_driver'] = pd.factorize(master['journey_purpose_of_driver'])[0]+1\n",
    "master['propulsion'] = pd.factorize(master['propulsion'])[0]+1\n",
    "master['socioeconomic_status'] = pd.factorize(master['socioeconomic_status'])[0]+1\n",
    "master['driver_residence'] = pd.factorize(master['driver_residence'])[0]+1\n",
    "master['car_status'] = pd.factorize(master['car_status'])[0]+1\n",
    "master['season'] = pd.factorize(master['season'])[0]+1\n",
    "master['road_type'] = pd.factorize(master['road_type'])[0]+1"
   ]
  },
  {
   "cell_type": "code",
   "execution_count": 5,
   "metadata": {},
   "outputs": [],
   "source": [
    "master.drop(['coordinates', 'age_bin_driver'],axis=1 , inplace=True)"
   ]
  },
  {
   "cell_type": "code",
   "execution_count": 6,
   "metadata": {},
   "outputs": [],
   "source": [
    "df = master"
   ]
  },
  {
   "cell_type": "code",
   "execution_count": 7,
   "metadata": {},
   "outputs": [],
   "source": [
    "X = df.drop(columns=['accident_severity'], axis=1)\n",
    "y = df['accident_severity']"
   ]
  },
  {
   "cell_type": "code",
   "execution_count": 8,
   "metadata": {},
   "outputs": [],
   "source": [
    "X = df.drop(columns=['accident_severity'], axis=1)\n",
    "y = df['accident_severity']\n",
    "X_r, y_r = SMOTE().fit_sample(X, y)\n",
    "X_train, X_test, y_train, y_test = train_test_split(X_r, y_r, test_size=0.2, random_state=42)"
   ]
  },
  {
   "cell_type": "code",
   "execution_count": 9,
   "metadata": {},
   "outputs": [],
   "source": [
    "def plot_confusion_matrix(cm, classes,\n",
    "                          normalize=False,\n",
    "                          title='Confusion matrix',\n",
    "                          cmap=plt.cm.Greens):\n",
    "    \"\"\"\n",
    "    This function prints and plots the confusion matrix.\n",
    "    Normalization can be applied by setting `normalize=True`.\n",
    "    \"\"\"\n",
    "    if normalize:\n",
    "        cm = cm.astype('float') / cm.sum(axis=1)[:, np.newaxis]\n",
    "        print(\"Normalized confusion matrix\")\n",
    "    else:\n",
    "        print('Confusion Matrix, without normalization')\n",
    "\n",
    "    print(cm)\n",
    "\n",
    "    plt.imshow(cm, interpolation='nearest', cmap=cmap)\n",
    "    plt.title(title)\n",
    "    plt.colorbar()\n",
    "    tick_marks = np.arange(len(classes))\n",
    "    plt.xticks(tick_marks, classes, rotation=45)\n",
    "    plt.yticks(tick_marks, classes)\n",
    "\n",
    "    fmt = '.2f' if normalize else 'd'\n",
    "    thresh = cm.max() / 2.\n",
    "    for i, j in itertools.product(range(cm.shape[0]), range(cm.shape[1])):\n",
    "        plt.text(j, i, format(cm[i, j], fmt),\n",
    "                 horizontalalignment=\"center\",\n",
    "                 color=\"white\" if cm[i, j] > thresh else \"black\")\n",
    "\n",
    "    plt.tight_layout()\n",
    "    plt.ylabel('True label')\n",
    "    plt.xlabel('Predicted label')"
   ]
  },
  {
   "cell_type": "code",
   "execution_count": 10,
   "metadata": {},
   "outputs": [],
   "source": [
    "knn = KNeighborsClassifier(n_neighbors=1)"
   ]
  },
  {
   "cell_type": "code",
   "execution_count": 11,
   "metadata": {},
   "outputs": [
    {
     "data": {
      "text/plain": [
       "KNeighborsClassifier(algorithm='auto', leaf_size=30, metric='minkowski',\n",
       "                     metric_params=None, n_jobs=None, n_neighbors=1, p=2,\n",
       "                     weights='uniform')"
      ]
     },
     "execution_count": 11,
     "metadata": {},
     "output_type": "execute_result"
    }
   ],
   "source": [
    "knn"
   ]
  },
  {
   "cell_type": "code",
   "execution_count": 12,
   "metadata": {},
   "outputs": [],
   "source": [
    "scaler = StandardScaler()  \n",
    "scaler.fit(X_train)\n",
    "\n",
    "X_trainK = scaler.transform(X_train)  \n",
    "X_testK = scaler.transform(X_test)  \n",
    "\n",
    "\n",
    "model = KNeighborsClassifier(n_neighbors=1)\n",
    "model.fit(X_trainK, y_train)\n",
    "\n",
    "y_pred = model.predict(X_test)"
   ]
  },
  {
   "cell_type": "code",
   "execution_count": 13,
   "metadata": {},
   "outputs": [
    {
     "name": "stdout",
     "output_type": "stream",
     "text": [
      "[[6344 3904  620]\n",
      " [5298 4717  993]\n",
      " [4641 4325 2090]]\n"
     ]
    }
   ],
   "source": [
    "print(metrics.confusion_matrix(y_test, y_pred))"
   ]
  },
  {
   "cell_type": "code",
   "execution_count": 14,
   "metadata": {},
   "outputs": [
    {
     "data": {
      "text/plain": [
       "3    11056\n",
       "2    11008\n",
       "1    10868\n",
       "Name: accident_severity, dtype: int64"
      ]
     },
     "execution_count": 14,
     "metadata": {},
     "output_type": "execute_result"
    }
   ],
   "source": [
    "y_test.value_counts()"
   ]
  },
  {
   "cell_type": "code",
   "execution_count": 15,
   "metadata": {},
   "outputs": [],
   "source": [
    "cm = confusion_matrix(y_test,y_pred)\n",
    "classes = ['Slight', 'Serious','Fatal']"
   ]
  },
  {
   "cell_type": "code",
   "execution_count": 16,
   "metadata": {
    "scrolled": true
   },
   "outputs": [
    {
     "name": "stdout",
     "output_type": "stream",
     "text": [
      "Confusion Matrix, without normalization\n",
      "[[6344 3904  620]\n",
      " [5298 4717  993]\n",
      " [4641 4325 2090]]\n"
     ]
    },
    {
     "data": {
      "image/png": "[encoded data removed]",
      "text/plain": [
       "<Figure size 432x288 with 2 Axes>"
      ]
     },
     "metadata": {
      "needs_background": "light"
     },
     "output_type": "display_data"
    }
   ],
   "source": [
    "plot_confusion_matrix(cm, classes,\n",
    "                          normalize=False,\n",
    "                          title='Confusion matrix',\n",
    "                          cmap=plt.cm.Blues)"
   ]
  },
  {
   "cell_type": "code",
   "execution_count": 24,
   "metadata": {},
   "outputs": [],
   "source": [
    " from sklearn.metrics import f1_score"
   ]
  },
  {
   "cell_type": "code",
   "execution_count": 47,
   "metadata": {},
   "outputs": [
    {
     "data": {
      "text/html": [
       "<div>\n",
       "<style scoped>\n",
       "    .dataframe tbody tr th:only-of-type {\n",
       "        vertical-align: middle;\n",
       "    }\n",
       "\n",
       "    .dataframe tbody tr th {\n",
       "        vertical-align: top;\n",
       "    }\n",
       "\n",
       "    .dataframe thead th {\n",
       "        text-align: right;\n",
       "    }\n",
       "</style>\n",
       "<table border=\"1\" class=\"dataframe\">\n",
       "  <thead>\n",
       "    <tr style=\"text-align: right;\">\n",
       "      <th></th>\n",
       "      <th>Micro</th>\n",
       "      <th>Macro</th>\n",
       "      <th>Weighted</th>\n",
       "    </tr>\n",
       "  </thead>\n",
       "  <tbody>\n",
       "    <tr>\n",
       "      <td>Precison</td>\n",
       "      <td>0.892658</td>\n",
       "      <td>0.908302</td>\n",
       "      <td>0.908112</td>\n",
       "    </tr>\n",
       "    <tr>\n",
       "      <td>Recall</td>\n",
       "      <td>0.892658</td>\n",
       "      <td>0.891736</td>\n",
       "      <td>0.892658</td>\n",
       "    </tr>\n",
       "    <tr>\n",
       "      <td>F1 SCore</td>\n",
       "      <td>0.892658</td>\n",
       "      <td>0.889896</td>\n",
       "      <td>0.890320</td>\n",
       "    </tr>\n",
       "  </tbody>\n",
       "</table>\n",
       "</div>"
      ],
      "text/plain": [
       "             Micro     Macro  Weighted\n",
       "Precison  0.892658  0.908302  0.908112\n",
       "Recall    0.892658  0.891736  0.892658\n",
       "F1 SCore  0.892658  0.889896  0.890320"
      ]
     },
     "execution_count": 47,
     "metadata": {},
     "output_type": "execute_result"
    }
   ],
   "source": [
    "data = { \n",
    "    'Micro': [ \n",
    "precision_score(y_test, y_pred, \n",
    "                                           pos_label='positive',\n",
    "                                           average='micro'),\n",
    "recall_score(y_test, y_pred, \n",
    "                                           pos_label='positive',\n",
    "                                           average='micro'),\n",
    "f1_score(y_test, y_pred, \n",
    "                                           pos_label='positive',\n",
    "                                           average='micro')],\n",
    "    \n",
    "    'Macro': [\n",
    "        precision_score(y_test, y_pred, \n",
    "                                           pos_label='positive',\n",
    "                                           average='macro'),\n",
    "recall_score(y_test, y_pred, \n",
    "                                           pos_label='positive',\n",
    "                                           average='macro'),\n",
    "f1_score(y_test, y_pred, \n",
    "                                           pos_label='positive',\n",
    "                                           average='macro')],\n",
    "    'Weighted':[\n",
    "   precision_score(y_test, y_pred, \n",
    "                                           pos_label='positive',\n",
    "                                           average='weighted'),\n",
    "recall_score(y_test, y_pred, \n",
    "                                           pos_label='positive',\n",
    "                                           average='weighted'),\n",
    "f1_score(y_test, y_pred, \n",
    "                                           pos_label='positive',\n",
    "                                           average='weighted')]}\n",
    "    \n",
    "pd.DataFrame(data,\n",
    "                  index=pd.Index(['Precison', 'Recall', 'F1 SCore', ], ),\n",
    "                  columns=pd.Index(['Micro', 'Macro', 'Weighted'],))    "
   ]
  },
  {
   "cell_type": "code",
   "execution_count": null,
   "metadata": {},
   "outputs": [],
   "source": []
  },
  {
   "cell_type": "code",
   "execution_count": 36,
   "metadata": {},
   "outputs": [
    {
     "name": "stdout",
     "output_type": "stream",
     "text": [
      "[0.9342929267894967, 0.9560765139875925, 0.9191909414628762, 0.9356396409705545, 0.9072138771915613, 0.9224695983519821, 0.8974154254301755, 0.9134015697920543, 0.8903204176171743, 0.9039386501895866]\n"
     ]
    }
   ],
   "source": [
    "# search for an optimal value of K for KNN\n",
    "k_range = list(range(1, 11))\n",
    "k_scores = []\n",
    "for k in k_range:\n",
    "    knn = KNeighborsClassifier(n_neighbors=k)\n",
    "    knn.fit(X_train, y_train)\n",
    "    y_predict = knn.predict(X_test)\n",
    "    score = f1_score(y_test, y_predict, average='weighted')\n",
    "    k_scores.append( score)\n",
    "print(k_scores)"
   ]
  },
  {
   "cell_type": "code",
   "execution_count": 42,
   "metadata": {},
   "outputs": [],
   "source": [
    "scaler = StandardScaler()  \n",
    "scaler.fit(X_train)\n",
    "\n",
    "X_trainK = scaler.transform(X_train)  \n",
    "X_testK = scaler.transform(X_test)  \n",
    "\n",
    "\n",
    "model2 = KNeighborsClassifier(n_neighbors=9)\n",
    "model2.fit(X_train, y_train)\n",
    "\n",
    "y_pred = model2.predict(X_test)"
   ]
  },
  {
   "cell_type": "code",
   "execution_count": 43,
   "metadata": {},
   "outputs": [
    {
     "name": "stdout",
     "output_type": "stream",
     "text": [
      "[[ 7738  3003   127]\n",
      " [  202 10604   202]\n",
      " [    0     1 11055]]\n"
     ]
    }
   ],
   "source": [
    "print(metrics.confusion_matrix(y_test, y_pred))"
   ]
  },
  {
   "cell_type": "code",
   "execution_count": 44,
   "metadata": {},
   "outputs": [],
   "source": [
    "cm = confusion_matrix(y_test,y_pred)\n",
    "classes = ['Slight', 'Serious','Fatal']"
   ]
  },
  {
   "cell_type": "code",
   "execution_count": 45,
   "metadata": {},
   "outputs": [
    {
     "name": "stdout",
     "output_type": "stream",
     "text": [
      "Confusion Matrix, without normalization\n",
      "[[ 7738  3003   127]\n",
      " [  202 10604   202]\n",
      " [    0     1 11055]]\n"
     ]
    },
    {
     "data": {
      "image/png": "[encoded data removed]",
      "text/plain": [
       "<Figure size 432x288 with 2 Axes>"
      ]
     },
     "metadata": {
      "needs_background": "light"
     },
     "output_type": "display_data"
    }
   ],
   "source": [
    "plot_confusion_matrix(cm, classes,\n",
    "                          normalize=False,\n",
    "                          title='Confusion matrix',\n",
    "                          cmap=plt.cm.Blues)"
   ]
  },
  {
   "cell_type": "code",
   "execution_count": 48,
   "metadata": {},
   "outputs": [
    {
     "data": {
      "text/html": [
       "<div>\n",
       "<style scoped>\n",
       "    .dataframe tbody tr th:only-of-type {\n",
       "        vertical-align: middle;\n",
       "    }\n",
       "\n",
       "    .dataframe tbody tr th {\n",
       "        vertical-align: top;\n",
       "    }\n",
       "\n",
       "    .dataframe thead th {\n",
       "        text-align: right;\n",
       "    }\n",
       "</style>\n",
       "<table border=\"1\" class=\"dataframe\">\n",
       "  <thead>\n",
       "    <tr style=\"text-align: right;\">\n",
       "      <th></th>\n",
       "      <th>Micro</th>\n",
       "      <th>Macro</th>\n",
       "      <th>Weighted</th>\n",
       "    </tr>\n",
       "  </thead>\n",
       "  <tbody>\n",
       "    <tr>\n",
       "      <td>Precison</td>\n",
       "      <td>0.892658</td>\n",
       "      <td>0.908302</td>\n",
       "      <td>0.908112</td>\n",
       "    </tr>\n",
       "    <tr>\n",
       "      <td>Recall</td>\n",
       "      <td>0.892658</td>\n",
       "      <td>0.891736</td>\n",
       "      <td>0.892658</td>\n",
       "    </tr>\n",
       "    <tr>\n",
       "      <td>F1 SCore</td>\n",
       "      <td>0.892658</td>\n",
       "      <td>0.889896</td>\n",
       "      <td>0.890320</td>\n",
       "    </tr>\n",
       "  </tbody>\n",
       "</table>\n",
       "</div>"
      ],
      "text/plain": [
       "             Micro     Macro  Weighted\n",
       "Precison  0.892658  0.908302  0.908112\n",
       "Recall    0.892658  0.891736  0.892658\n",
       "F1 SCore  0.892658  0.889896  0.890320"
      ]
     },
     "execution_count": 48,
     "metadata": {},
     "output_type": "execute_result"
    }
   ],
   "source": [
    "data = { \n",
    "    'Micro': [ \n",
    "precision_score(y_test, y_pred, \n",
    "                                           pos_label='positive',\n",
    "                                           average='micro'),\n",
    "recall_score(y_test, y_pred, \n",
    "                                           pos_label='positive',\n",
    "                                           average='micro'),\n",
    "f1_score(y_test, y_pred, \n",
    "                                           pos_label='positive',\n",
    "                                           average='micro')],\n",
    "    \n",
    "    'Macro': [\n",
    "        precision_score(y_test, y_pred, \n",
    "                                           pos_label='positive',\n",
    "                                           average='macro'),\n",
    "recall_score(y_test, y_pred, \n",
    "                                           pos_label='positive',\n",
    "                                           average='macro'),\n",
    "f1_score(y_test, y_pred, \n",
    "                                           pos_label='positive',\n",
    "                                           average='macro')],\n",
    "    'Weighted':[\n",
    "   precision_score(y_test, y_pred, \n",
    "                                           pos_label='positive',\n",
    "                                           average='weighted'),\n",
    "recall_score(y_test, y_pred, \n",
    "                                           pos_label='positive',\n",
    "                                           average='weighted'),\n",
    "f1_score(y_test, y_pred, \n",
    "                                           pos_label='positive',\n",
    "                                           average='weighted')]}\n",
    "    \n",
    "pd.DataFrame(data,\n",
    "                  index=pd.Index(['Precison', 'Recall', 'F1 SCore', ], ),\n",
    "                  columns=pd.Index(['Micro', 'Macro', 'Weighted'],))    "
   ]
  },
  {
   "cell_type": "code",
   "execution_count": null,
   "metadata": {},
   "outputs": [],
   "source": []
  },
  {
   "cell_type": "code",
   "execution_count": null,
   "metadata": {},
   "outputs": [],
   "source": []
  }
 ],
 "metadata": {
  "kernelspec": {
   "display_name": "Python 3",
   "language": "python",
   "name": "python3"
  },
  "language_info": {
   "codemirror_mode": {
    "name": "ipython",
    "version": 3
   },
   "file_extension": ".py",
   "mimetype": "text/x-python",
   "name": "python",
   "nbconvert_exporter": "python",
   "pygments_lexer": "ipython3",
   "version": "3.7.4"
  },
  "toc": {
   "base_numbering": 1,
   "nav_menu": {},
   "number_sections": true,
   "sideBar": true,
   "skip_h1_title": false,
   "title_cell": "Table of Contents",
   "title_sidebar": "Contents",
   "toc_cell": false,
   "toc_position": {},
   "toc_section_display": true,
   "toc_window_display": false
  },
  "varInspector": {
   "cols": {
    "lenName": 16,
    "lenType": 16,
    "lenVar": 40
   },
   "kernels_config": {
    "python": {
     "delete_cmd_postfix": "",
     "delete_cmd_prefix": "del ",
     "library": "var_list.py",
     "varRefreshCmd": "print(var_dic_list())"
    },
    "r": {
     "delete_cmd_postfix": ") ",
     "delete_cmd_prefix": "rm(",
     "library": "var_list.r",
     "varRefreshCmd": "cat(var_dic_list()) "
    }
   },
   "types_to_exclude": [
    "module",
    "function",
    "builtin_function_or_method",
    "instance",
    "_Feature"
   ],
   "window_display": false
  }
 },
 "nbformat": 4,
 "nbformat_minor": 2
}
