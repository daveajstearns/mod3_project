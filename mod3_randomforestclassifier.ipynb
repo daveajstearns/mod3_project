{
 "cells": [
  {
   "cell_type": "code",
   "execution_count": 1,
   "metadata": {},
   "outputs": [],
   "source": [
    "import pandas as pd\n",
    "import numpy as np\n",
    "import warnings\n",
    "warnings.filterwarnings('ignore')\n",
    "pd.set_option('display.max_columns', None)\n",
    "from sklearn.model_selection import train_test_split\n",
    "from sklearn.preprocessing import PolynomialFeatures\n",
    "import matplotlib.pyplot as plt\n",
    "import seaborn as sns\n",
    "%matplotlib inline\n",
    "from sklearn.preprocessing import StandardScaler\n",
    "from sklearn.preprocessing import MinMaxScaler\n",
    "from sklearn.linear_model import LogisticRegression\n",
    "from sklearn.metrics import classification_report\n",
    "from sklearn.metrics import roc_curve, auc\n",
    "from sklearn.metrics import roc_auc_score\n",
    "from sklearn.neighbors import KNeighborsClassifier\n",
    "from sklearn.tree import DecisionTreeClassifier\n",
    "from sklearn.linear_model import LogisticRegressionCV\n",
    "from sklearn.metrics import precision_score, recall_score, f1_score\n",
    "from sklearn.model_selection import cross_val_score\n",
    "from sklearn.model_selection import cross_validate\n",
    "from sklearn.feature_selection import RFECV\n",
    "from sklearn.model_selection import GridSearchCV\n",
    "%run -i 'functions.py'\n",
    "from sklearn.ensemble import RandomForestClassifier\n",
    "from sklearn.metrics import accuracy_score, f1_score, recall_score, precision_score\n",
    "from pprint import pprint\n",
    "from imblearn.over_sampling import SMOTE"
   ]
  },
  {
   "cell_type": "code",
   "execution_count": 2,
   "metadata": {},
   "outputs": [],
   "source": [
    "data = pd.read_csv('final_data.csv')"
   ]
  },
  {
   "cell_type": "code",
   "execution_count": 3,
   "metadata": {},
   "outputs": [],
   "source": [
    "data = drop(data, 'Unnamed: 0')"
   ]
  },
  {
   "cell_type": "code",
   "execution_count": 168,
   "metadata": {},
   "outputs": [
    {
     "data": {
      "text/html": [
       "<div>\n",
       "<style scoped>\n",
       "    .dataframe tbody tr th:only-of-type {\n",
       "        vertical-align: middle;\n",
       "    }\n",
       "\n",
       "    .dataframe tbody tr th {\n",
       "        vertical-align: top;\n",
       "    }\n",
       "\n",
       "    .dataframe thead th {\n",
       "        text-align: right;\n",
       "    }\n",
       "</style>\n",
       "<table border=\"1\" class=\"dataframe\">\n",
       "  <thead>\n",
       "    <tr style=\"text-align: right;\">\n",
       "      <th></th>\n",
       "      <th>accident_severity</th>\n",
       "      <th>number_of_vehicles</th>\n",
       "      <th>number_of_casualties</th>\n",
       "      <th>day_of_week</th>\n",
       "      <th>time</th>\n",
       "      <th>road_class</th>\n",
       "      <th>road_type</th>\n",
       "      <th>speed_limit</th>\n",
       "      <th>junction_control</th>\n",
       "      <th>crossguard</th>\n",
       "      <th>ped_crossway</th>\n",
       "      <th>light_conditions</th>\n",
       "      <th>weather_conditions</th>\n",
       "      <th>road_surface_conditions</th>\n",
       "      <th>special_conditions_at_site</th>\n",
       "      <th>road_hazard</th>\n",
       "      <th>urban_or_rural_area</th>\n",
       "      <th>did_police_officer_attend_scene_of_accident</th>\n",
       "      <th>coordinates</th>\n",
       "      <th>vehicle_type</th>\n",
       "      <th>trailer</th>\n",
       "      <th>vehicle_activity</th>\n",
       "      <th>in_restricted_lane</th>\n",
       "      <th>vehicle_action</th>\n",
       "      <th>vehicle_loc_post_impact</th>\n",
       "      <th>impact_type</th>\n",
       "      <th>was_vehicle_left_hand_drive?</th>\n",
       "      <th>journey_purpose_of_driver</th>\n",
       "      <th>sex_of_driver</th>\n",
       "      <th>age_driver</th>\n",
       "      <th>age_bin_driver</th>\n",
       "      <th>propulsion</th>\n",
       "      <th>age_of_vehicle</th>\n",
       "      <th>socioeconomic_status</th>\n",
       "      <th>driver_residence</th>\n",
       "      <th>car_status</th>\n",
       "      <th>season</th>\n",
       "    </tr>\n",
       "  </thead>\n",
       "  <tbody>\n",
       "    <tr>\n",
       "      <td>0</td>\n",
       "      <td>minor</td>\n",
       "      <td>2</td>\n",
       "      <td>1</td>\n",
       "      <td>Monday</td>\n",
       "      <td>midnight</td>\n",
       "      <td>A_road</td>\n",
       "      <td>single_lane</td>\n",
       "      <td>20</td>\n",
       "      <td>yield</td>\n",
       "      <td>0</td>\n",
       "      <td>ped_light</td>\n",
       "      <td>1</td>\n",
       "      <td>clear</td>\n",
       "      <td>1</td>\n",
       "      <td>0</td>\n",
       "      <td>0</td>\n",
       "      <td>1</td>\n",
       "      <td>1</td>\n",
       "      <td>(51.529746, -0.102474)</td>\n",
       "      <td>taxi</td>\n",
       "      <td>0</td>\n",
       "      <td>turn_left</td>\n",
       "      <td>0</td>\n",
       "      <td>none</td>\n",
       "      <td>on_road</td>\n",
       "      <td>front</td>\n",
       "      <td>1</td>\n",
       "      <td>work</td>\n",
       "      <td>1</td>\n",
       "      <td>40</td>\n",
       "      <td>7</td>\n",
       "      <td>hybrid/electric</td>\n",
       "      <td>6</td>\n",
       "      <td>low</td>\n",
       "      <td>city</td>\n",
       "      <td>poor</td>\n",
       "      <td>winter</td>\n",
       "    </tr>\n",
       "    <tr>\n",
       "      <td>1</td>\n",
       "      <td>severe</td>\n",
       "      <td>2</td>\n",
       "      <td>1</td>\n",
       "      <td>Monday</td>\n",
       "      <td>late_night</td>\n",
       "      <td>B_road</td>\n",
       "      <td>two_lane</td>\n",
       "      <td>30</td>\n",
       "      <td>traffic_light</td>\n",
       "      <td>0</td>\n",
       "      <td>ped_light</td>\n",
       "      <td>1</td>\n",
       "      <td>rain</td>\n",
       "      <td>0</td>\n",
       "      <td>0</td>\n",
       "      <td>0</td>\n",
       "      <td>1</td>\n",
       "      <td>1</td>\n",
       "      <td>(51.530179, 0.037828)</td>\n",
       "      <td>car</td>\n",
       "      <td>0</td>\n",
       "      <td>turn_right</td>\n",
       "      <td>0</td>\n",
       "      <td>none</td>\n",
       "      <td>on_road</td>\n",
       "      <td>front</td>\n",
       "      <td>1</td>\n",
       "      <td>Unknown</td>\n",
       "      <td>1</td>\n",
       "      <td>27</td>\n",
       "      <td>6</td>\n",
       "      <td>petrol</td>\n",
       "      <td>1</td>\n",
       "      <td>middle</td>\n",
       "      <td>city</td>\n",
       "      <td>good</td>\n",
       "      <td>winter</td>\n",
       "    </tr>\n",
       "    <tr>\n",
       "      <td>2</td>\n",
       "      <td>severe</td>\n",
       "      <td>2</td>\n",
       "      <td>1</td>\n",
       "      <td>Monday</td>\n",
       "      <td>early_morning</td>\n",
       "      <td>C_road</td>\n",
       "      <td>single_lane</td>\n",
       "      <td>30</td>\n",
       "      <td>yield</td>\n",
       "      <td>0</td>\n",
       "      <td>none</td>\n",
       "      <td>1</td>\n",
       "      <td>clear</td>\n",
       "      <td>1</td>\n",
       "      <td>0</td>\n",
       "      <td>0</td>\n",
       "      <td>1</td>\n",
       "      <td>1</td>\n",
       "      <td>(51.514545, -0.199239)</td>\n",
       "      <td>taxi</td>\n",
       "      <td>0</td>\n",
       "      <td>exiting</td>\n",
       "      <td>0</td>\n",
       "      <td>none</td>\n",
       "      <td>on_road</td>\n",
       "      <td>front</td>\n",
       "      <td>1</td>\n",
       "      <td>work</td>\n",
       "      <td>1</td>\n",
       "      <td>66</td>\n",
       "      <td>10</td>\n",
       "      <td>electric</td>\n",
       "      <td>5</td>\n",
       "      <td>low</td>\n",
       "      <td>city</td>\n",
       "      <td>poor</td>\n",
       "      <td>winter</td>\n",
       "    </tr>\n",
       "    <tr>\n",
       "      <td>3</td>\n",
       "      <td>minor</td>\n",
       "      <td>3</td>\n",
       "      <td>1</td>\n",
       "      <td>Monday</td>\n",
       "      <td>early_morning</td>\n",
       "      <td>A_road</td>\n",
       "      <td>one_way</td>\n",
       "      <td>30</td>\n",
       "      <td>yield</td>\n",
       "      <td>0</td>\n",
       "      <td>none</td>\n",
       "      <td>1</td>\n",
       "      <td>clear</td>\n",
       "      <td>1</td>\n",
       "      <td>0</td>\n",
       "      <td>0</td>\n",
       "      <td>1</td>\n",
       "      <td>1</td>\n",
       "      <td>(51.475091, -0.032886)</td>\n",
       "      <td>taxi</td>\n",
       "      <td>0</td>\n",
       "      <td>driving</td>\n",
       "      <td>0</td>\n",
       "      <td>none</td>\n",
       "      <td>on_road</td>\n",
       "      <td>back</td>\n",
       "      <td>1</td>\n",
       "      <td>work</td>\n",
       "      <td>2</td>\n",
       "      <td>36</td>\n",
       "      <td>7</td>\n",
       "      <td>hybrid/electric</td>\n",
       "      <td>2</td>\n",
       "      <td>low</td>\n",
       "      <td>city</td>\n",
       "      <td>poor</td>\n",
       "      <td>winter</td>\n",
       "    </tr>\n",
       "    <tr>\n",
       "      <td>4</td>\n",
       "      <td>minor</td>\n",
       "      <td>2</td>\n",
       "      <td>1</td>\n",
       "      <td>Monday</td>\n",
       "      <td>midnight</td>\n",
       "      <td>Unclassified</td>\n",
       "      <td>single_lane</td>\n",
       "      <td>30</td>\n",
       "      <td>yield</td>\n",
       "      <td>0</td>\n",
       "      <td>cross_walk</td>\n",
       "      <td>1</td>\n",
       "      <td>clear</td>\n",
       "      <td>1</td>\n",
       "      <td>0</td>\n",
       "      <td>0</td>\n",
       "      <td>1</td>\n",
       "      <td>1</td>\n",
       "      <td>(51.56325, -0.311872)</td>\n",
       "      <td>car</td>\n",
       "      <td>0</td>\n",
       "      <td>turn_right</td>\n",
       "      <td>0</td>\n",
       "      <td>none</td>\n",
       "      <td>on_road</td>\n",
       "      <td>front</td>\n",
       "      <td>1</td>\n",
       "      <td>Unknown</td>\n",
       "      <td>1</td>\n",
       "      <td>24</td>\n",
       "      <td>5</td>\n",
       "      <td>petrol</td>\n",
       "      <td>9</td>\n",
       "      <td>low</td>\n",
       "      <td>city</td>\n",
       "      <td>okay</td>\n",
       "      <td>winter</td>\n",
       "    </tr>\n",
       "  </tbody>\n",
       "</table>\n",
       "</div>"
      ],
      "text/plain": [
       "  accident_severity  number_of_vehicles  number_of_casualties day_of_week  \\\n",
       "0             minor                   2                     1      Monday   \n",
       "1            severe                   2                     1      Monday   \n",
       "2            severe                   2                     1      Monday   \n",
       "3             minor                   3                     1      Monday   \n",
       "4             minor                   2                     1      Monday   \n",
       "\n",
       "            time    road_class    road_type  speed_limit junction_control  \\\n",
       "0       midnight        A_road  single_lane           20            yield   \n",
       "1     late_night        B_road     two_lane           30    traffic_light   \n",
       "2  early_morning        C_road  single_lane           30            yield   \n",
       "3  early_morning        A_road      one_way           30            yield   \n",
       "4       midnight  Unclassified  single_lane           30            yield   \n",
       "\n",
       "   crossguard ped_crossway  light_conditions weather_conditions  \\\n",
       "0           0    ped_light                 1              clear   \n",
       "1           0    ped_light                 1               rain   \n",
       "2           0         none                 1              clear   \n",
       "3           0         none                 1              clear   \n",
       "4           0   cross_walk                 1              clear   \n",
       "\n",
       "   road_surface_conditions  special_conditions_at_site  road_hazard  \\\n",
       "0                        1                           0            0   \n",
       "1                        0                           0            0   \n",
       "2                        1                           0            0   \n",
       "3                        1                           0            0   \n",
       "4                        1                           0            0   \n",
       "\n",
       "   urban_or_rural_area  did_police_officer_attend_scene_of_accident  \\\n",
       "0                    1                                            1   \n",
       "1                    1                                            1   \n",
       "2                    1                                            1   \n",
       "3                    1                                            1   \n",
       "4                    1                                            1   \n",
       "\n",
       "              coordinates vehicle_type  trailer vehicle_activity  \\\n",
       "0  (51.529746, -0.102474)         taxi        0        turn_left   \n",
       "1   (51.530179, 0.037828)          car        0       turn_right   \n",
       "2  (51.514545, -0.199239)         taxi        0          exiting   \n",
       "3  (51.475091, -0.032886)         taxi        0          driving   \n",
       "4   (51.56325, -0.311872)          car        0       turn_right   \n",
       "\n",
       "   in_restricted_lane vehicle_action vehicle_loc_post_impact impact_type  \\\n",
       "0                   0           none                 on_road       front   \n",
       "1                   0           none                 on_road       front   \n",
       "2                   0           none                 on_road       front   \n",
       "3                   0           none                 on_road        back   \n",
       "4                   0           none                 on_road       front   \n",
       "\n",
       "   was_vehicle_left_hand_drive? journey_purpose_of_driver  sex_of_driver  \\\n",
       "0                             1                      work              1   \n",
       "1                             1                   Unknown              1   \n",
       "2                             1                      work              1   \n",
       "3                             1                      work              2   \n",
       "4                             1                   Unknown              1   \n",
       "\n",
       "   age_driver  age_bin_driver       propulsion  age_of_vehicle  \\\n",
       "0          40               7  hybrid/electric               6   \n",
       "1          27               6           petrol               1   \n",
       "2          66              10         electric               5   \n",
       "3          36               7  hybrid/electric               2   \n",
       "4          24               5           petrol               9   \n",
       "\n",
       "  socioeconomic_status driver_residence car_status  season  \n",
       "0                  low             city       poor  winter  \n",
       "1               middle             city       good  winter  \n",
       "2                  low             city       poor  winter  \n",
       "3                  low             city       poor  winter  \n",
       "4                  low             city       okay  winter  "
      ]
     },
     "execution_count": 168,
     "metadata": {},
     "output_type": "execute_result"
    }
   ],
   "source": [
    "data.head()"
   ]
  },
  {
   "cell_type": "markdown",
   "metadata": {},
   "source": [
    "## Prelude\n",
    "* `accident_severity` is the target\n",
    "* Data needs to be prepared differently for different models\n",
    "    * RandomForestClassifier will take in categorical variables without the use of dummy variables, however, all values will need to be numerical.\n",
    "* Feature selection needs to be completed\n",
    "* Need to check if there are any valuable polynomial features"
   ]
  },
  {
   "cell_type": "markdown",
   "metadata": {},
   "source": [
    "## Preparation of data for RFC\n",
    "* Use `pd.factorize(data[column])[0] + 1`\n",
    "\n"
   ]
  },
  {
   "cell_type": "code",
   "execution_count": 4,
   "metadata": {},
   "outputs": [],
   "source": [
    "# Not sure how to turn this into a function\n",
    "data['accident_severity'] = factorize(data, 'accident_severity')\n",
    "data['day_of_week'] = factorize(data, 'day_of_week')\n",
    "data['time'] = factorize(data, 'time')\n",
    "data['road_class'] = factorize(data, 'road_class')\n",
    "data['junction_control'] = factorize(data, 'junction_control')\n",
    "data['ped_crossway'] = factorize(data, 'ped_crossway')\n",
    "data['weather_conditions'] = factorize(data, 'weather_conditions')\n",
    "data['vehicle_type'] = factorize(data, 'vehicle_type')\n",
    "data['vehicle_activity'] = factorize(data, 'vehicle_activity')\n",
    "data['vehicle_action'] = factorize(data, 'vehicle_action')\n",
    "data['vehicle_loc_post_impact'] = factorize(data, 'vehicle_loc_post_impact')\n",
    "data['impact_type'] = factorize(data, 'impact_type')\n",
    "data['journey_purpose_of_driver'] = factorize(data, 'journey_purpose_of_driver')\n",
    "data['propulsion'] = factorize(data, 'propulsion')\n",
    "data['socioeconomic_status'] = factorize(data, 'socioeconomic_status')\n",
    "data['driver_residence'] = factorize(data, 'driver_residence')\n",
    "data['car_status'] = factorize(data, 'car_status')\n",
    "data['season'] = factorize(data, 'season')\n",
    "data['road_type'] = factorize(data, 'road_type')"
   ]
  },
  {
   "cell_type": "code",
   "execution_count": 170,
   "metadata": {},
   "outputs": [
    {
     "data": {
      "text/html": [
       "<div>\n",
       "<style scoped>\n",
       "    .dataframe tbody tr th:only-of-type {\n",
       "        vertical-align: middle;\n",
       "    }\n",
       "\n",
       "    .dataframe tbody tr th {\n",
       "        vertical-align: top;\n",
       "    }\n",
       "\n",
       "    .dataframe thead th {\n",
       "        text-align: right;\n",
       "    }\n",
       "</style>\n",
       "<table border=\"1\" class=\"dataframe\">\n",
       "  <thead>\n",
       "    <tr style=\"text-align: right;\">\n",
       "      <th></th>\n",
       "      <th>accident_severity</th>\n",
       "      <th>number_of_vehicles</th>\n",
       "      <th>number_of_casualties</th>\n",
       "      <th>day_of_week</th>\n",
       "      <th>time</th>\n",
       "      <th>road_class</th>\n",
       "      <th>road_type</th>\n",
       "      <th>speed_limit</th>\n",
       "      <th>junction_control</th>\n",
       "      <th>crossguard</th>\n",
       "      <th>ped_crossway</th>\n",
       "      <th>light_conditions</th>\n",
       "      <th>weather_conditions</th>\n",
       "      <th>road_surface_conditions</th>\n",
       "      <th>special_conditions_at_site</th>\n",
       "      <th>road_hazard</th>\n",
       "      <th>urban_or_rural_area</th>\n",
       "      <th>did_police_officer_attend_scene_of_accident</th>\n",
       "      <th>coordinates</th>\n",
       "      <th>vehicle_type</th>\n",
       "      <th>trailer</th>\n",
       "      <th>vehicle_activity</th>\n",
       "      <th>in_restricted_lane</th>\n",
       "      <th>vehicle_action</th>\n",
       "      <th>vehicle_loc_post_impact</th>\n",
       "      <th>impact_type</th>\n",
       "      <th>was_vehicle_left_hand_drive?</th>\n",
       "      <th>journey_purpose_of_driver</th>\n",
       "      <th>sex_of_driver</th>\n",
       "      <th>age_driver</th>\n",
       "      <th>age_bin_driver</th>\n",
       "      <th>propulsion</th>\n",
       "      <th>age_of_vehicle</th>\n",
       "      <th>socioeconomic_status</th>\n",
       "      <th>driver_residence</th>\n",
       "      <th>car_status</th>\n",
       "      <th>season</th>\n",
       "    </tr>\n",
       "  </thead>\n",
       "  <tbody>\n",
       "    <tr>\n",
       "      <td>0</td>\n",
       "      <td>1</td>\n",
       "      <td>2</td>\n",
       "      <td>1</td>\n",
       "      <td>1</td>\n",
       "      <td>1</td>\n",
       "      <td>1</td>\n",
       "      <td>1</td>\n",
       "      <td>20</td>\n",
       "      <td>1</td>\n",
       "      <td>0</td>\n",
       "      <td>1</td>\n",
       "      <td>1</td>\n",
       "      <td>1</td>\n",
       "      <td>1</td>\n",
       "      <td>0</td>\n",
       "      <td>0</td>\n",
       "      <td>1</td>\n",
       "      <td>1</td>\n",
       "      <td>(51.529746, -0.102474)</td>\n",
       "      <td>1</td>\n",
       "      <td>0</td>\n",
       "      <td>1</td>\n",
       "      <td>0</td>\n",
       "      <td>1</td>\n",
       "      <td>1</td>\n",
       "      <td>1</td>\n",
       "      <td>1</td>\n",
       "      <td>1</td>\n",
       "      <td>1</td>\n",
       "      <td>40</td>\n",
       "      <td>7</td>\n",
       "      <td>1</td>\n",
       "      <td>6</td>\n",
       "      <td>1</td>\n",
       "      <td>1</td>\n",
       "      <td>1</td>\n",
       "      <td>1</td>\n",
       "    </tr>\n",
       "    <tr>\n",
       "      <td>1</td>\n",
       "      <td>2</td>\n",
       "      <td>2</td>\n",
       "      <td>1</td>\n",
       "      <td>1</td>\n",
       "      <td>2</td>\n",
       "      <td>2</td>\n",
       "      <td>2</td>\n",
       "      <td>30</td>\n",
       "      <td>2</td>\n",
       "      <td>0</td>\n",
       "      <td>1</td>\n",
       "      <td>1</td>\n",
       "      <td>2</td>\n",
       "      <td>0</td>\n",
       "      <td>0</td>\n",
       "      <td>0</td>\n",
       "      <td>1</td>\n",
       "      <td>1</td>\n",
       "      <td>(51.530179, 0.037828)</td>\n",
       "      <td>2</td>\n",
       "      <td>0</td>\n",
       "      <td>2</td>\n",
       "      <td>0</td>\n",
       "      <td>1</td>\n",
       "      <td>1</td>\n",
       "      <td>1</td>\n",
       "      <td>1</td>\n",
       "      <td>2</td>\n",
       "      <td>1</td>\n",
       "      <td>27</td>\n",
       "      <td>6</td>\n",
       "      <td>2</td>\n",
       "      <td>1</td>\n",
       "      <td>2</td>\n",
       "      <td>1</td>\n",
       "      <td>2</td>\n",
       "      <td>1</td>\n",
       "    </tr>\n",
       "    <tr>\n",
       "      <td>2</td>\n",
       "      <td>2</td>\n",
       "      <td>2</td>\n",
       "      <td>1</td>\n",
       "      <td>1</td>\n",
       "      <td>3</td>\n",
       "      <td>3</td>\n",
       "      <td>1</td>\n",
       "      <td>30</td>\n",
       "      <td>1</td>\n",
       "      <td>0</td>\n",
       "      <td>2</td>\n",
       "      <td>1</td>\n",
       "      <td>1</td>\n",
       "      <td>1</td>\n",
       "      <td>0</td>\n",
       "      <td>0</td>\n",
       "      <td>1</td>\n",
       "      <td>1</td>\n",
       "      <td>(51.514545, -0.199239)</td>\n",
       "      <td>1</td>\n",
       "      <td>0</td>\n",
       "      <td>3</td>\n",
       "      <td>0</td>\n",
       "      <td>1</td>\n",
       "      <td>1</td>\n",
       "      <td>1</td>\n",
       "      <td>1</td>\n",
       "      <td>1</td>\n",
       "      <td>1</td>\n",
       "      <td>66</td>\n",
       "      <td>10</td>\n",
       "      <td>3</td>\n",
       "      <td>5</td>\n",
       "      <td>1</td>\n",
       "      <td>1</td>\n",
       "      <td>1</td>\n",
       "      <td>1</td>\n",
       "    </tr>\n",
       "    <tr>\n",
       "      <td>3</td>\n",
       "      <td>1</td>\n",
       "      <td>3</td>\n",
       "      <td>1</td>\n",
       "      <td>1</td>\n",
       "      <td>3</td>\n",
       "      <td>1</td>\n",
       "      <td>3</td>\n",
       "      <td>30</td>\n",
       "      <td>1</td>\n",
       "      <td>0</td>\n",
       "      <td>2</td>\n",
       "      <td>1</td>\n",
       "      <td>1</td>\n",
       "      <td>1</td>\n",
       "      <td>0</td>\n",
       "      <td>0</td>\n",
       "      <td>1</td>\n",
       "      <td>1</td>\n",
       "      <td>(51.475091, -0.032886)</td>\n",
       "      <td>1</td>\n",
       "      <td>0</td>\n",
       "      <td>4</td>\n",
       "      <td>0</td>\n",
       "      <td>1</td>\n",
       "      <td>1</td>\n",
       "      <td>2</td>\n",
       "      <td>1</td>\n",
       "      <td>1</td>\n",
       "      <td>2</td>\n",
       "      <td>36</td>\n",
       "      <td>7</td>\n",
       "      <td>1</td>\n",
       "      <td>2</td>\n",
       "      <td>1</td>\n",
       "      <td>1</td>\n",
       "      <td>1</td>\n",
       "      <td>1</td>\n",
       "    </tr>\n",
       "    <tr>\n",
       "      <td>4</td>\n",
       "      <td>1</td>\n",
       "      <td>2</td>\n",
       "      <td>1</td>\n",
       "      <td>1</td>\n",
       "      <td>1</td>\n",
       "      <td>4</td>\n",
       "      <td>1</td>\n",
       "      <td>30</td>\n",
       "      <td>1</td>\n",
       "      <td>0</td>\n",
       "      <td>3</td>\n",
       "      <td>1</td>\n",
       "      <td>1</td>\n",
       "      <td>1</td>\n",
       "      <td>0</td>\n",
       "      <td>0</td>\n",
       "      <td>1</td>\n",
       "      <td>1</td>\n",
       "      <td>(51.56325, -0.311872)</td>\n",
       "      <td>2</td>\n",
       "      <td>0</td>\n",
       "      <td>2</td>\n",
       "      <td>0</td>\n",
       "      <td>1</td>\n",
       "      <td>1</td>\n",
       "      <td>1</td>\n",
       "      <td>1</td>\n",
       "      <td>2</td>\n",
       "      <td>1</td>\n",
       "      <td>24</td>\n",
       "      <td>5</td>\n",
       "      <td>2</td>\n",
       "      <td>9</td>\n",
       "      <td>1</td>\n",
       "      <td>1</td>\n",
       "      <td>3</td>\n",
       "      <td>1</td>\n",
       "    </tr>\n",
       "  </tbody>\n",
       "</table>\n",
       "</div>"
      ],
      "text/plain": [
       "   accident_severity  number_of_vehicles  number_of_casualties  day_of_week  \\\n",
       "0                  1                   2                     1            1   \n",
       "1                  2                   2                     1            1   \n",
       "2                  2                   2                     1            1   \n",
       "3                  1                   3                     1            1   \n",
       "4                  1                   2                     1            1   \n",
       "\n",
       "   time  road_class  road_type  speed_limit  junction_control  crossguard  \\\n",
       "0     1           1          1           20                 1           0   \n",
       "1     2           2          2           30                 2           0   \n",
       "2     3           3          1           30                 1           0   \n",
       "3     3           1          3           30                 1           0   \n",
       "4     1           4          1           30                 1           0   \n",
       "\n",
       "   ped_crossway  light_conditions  weather_conditions  \\\n",
       "0             1                 1                   1   \n",
       "1             1                 1                   2   \n",
       "2             2                 1                   1   \n",
       "3             2                 1                   1   \n",
       "4             3                 1                   1   \n",
       "\n",
       "   road_surface_conditions  special_conditions_at_site  road_hazard  \\\n",
       "0                        1                           0            0   \n",
       "1                        0                           0            0   \n",
       "2                        1                           0            0   \n",
       "3                        1                           0            0   \n",
       "4                        1                           0            0   \n",
       "\n",
       "   urban_or_rural_area  did_police_officer_attend_scene_of_accident  \\\n",
       "0                    1                                            1   \n",
       "1                    1                                            1   \n",
       "2                    1                                            1   \n",
       "3                    1                                            1   \n",
       "4                    1                                            1   \n",
       "\n",
       "              coordinates  vehicle_type  trailer  vehicle_activity  \\\n",
       "0  (51.529746, -0.102474)             1        0                 1   \n",
       "1   (51.530179, 0.037828)             2        0                 2   \n",
       "2  (51.514545, -0.199239)             1        0                 3   \n",
       "3  (51.475091, -0.032886)             1        0                 4   \n",
       "4   (51.56325, -0.311872)             2        0                 2   \n",
       "\n",
       "   in_restricted_lane  vehicle_action  vehicle_loc_post_impact  impact_type  \\\n",
       "0                   0               1                        1            1   \n",
       "1                   0               1                        1            1   \n",
       "2                   0               1                        1            1   \n",
       "3                   0               1                        1            2   \n",
       "4                   0               1                        1            1   \n",
       "\n",
       "   was_vehicle_left_hand_drive?  journey_purpose_of_driver  sex_of_driver  \\\n",
       "0                             1                          1              1   \n",
       "1                             1                          2              1   \n",
       "2                             1                          1              1   \n",
       "3                             1                          1              2   \n",
       "4                             1                          2              1   \n",
       "\n",
       "   age_driver  age_bin_driver  propulsion  age_of_vehicle  \\\n",
       "0          40               7           1               6   \n",
       "1          27               6           2               1   \n",
       "2          66              10           3               5   \n",
       "3          36               7           1               2   \n",
       "4          24               5           2               9   \n",
       "\n",
       "   socioeconomic_status  driver_residence  car_status  season  \n",
       "0                     1                 1           1       1  \n",
       "1                     2                 1           2       1  \n",
       "2                     1                 1           1       1  \n",
       "3                     1                 1           1       1  \n",
       "4                     1                 1           3       1  "
      ]
     },
     "execution_count": 170,
     "metadata": {},
     "output_type": "execute_result"
    }
   ],
   "source": [
    "data.head()"
   ]
  },
  {
   "cell_type": "code",
   "execution_count": 6,
   "metadata": {},
   "outputs": [],
   "source": [
    "rf_data = drop(data, ['coordinates', 'age_bin_driver'])"
   ]
  },
  {
   "cell_type": "markdown",
   "metadata": {},
   "source": [
    "### Baseline RandomForestClassifier Model"
   ]
  },
  {
   "cell_type": "code",
   "execution_count": 7,
   "metadata": {},
   "outputs": [],
   "source": [
    "# Instantiating RFC\n",
    "rfc = RandomForestClassifier(random_state=42)"
   ]
  },
  {
   "cell_type": "code",
   "execution_count": 8,
   "metadata": {
    "scrolled": true
   },
   "outputs": [],
   "source": [
    "# Going to run my first baseline model using cross validation\n",
    "# Will use explicit training and test data for future runs\n",
    "# Baseline model\n",
    "X = rf_data.drop(columns=['accident_severity'], axis=1)\n",
    "y = rf_data['accident_severity']"
   ]
  },
  {
   "cell_type": "code",
   "execution_count": 174,
   "metadata": {},
   "outputs": [
    {
     "data": {
      "text/plain": [
       "{'fit_time': array([7.09886003, 7.10601807, 7.29964304]),\n",
       " 'score_time': array([0.64617014, 0.68594599, 0.86415005]),\n",
       " 'test_score': array([0.80996359, 0.81404849, 0.81120682])}"
      ]
     },
     "execution_count": 174,
     "metadata": {},
     "output_type": "execute_result"
    }
   ],
   "source": [
    "rfc.fit(X,y)\n",
    "cross_validate(rfc, X, y, cv=3)"
   ]
  },
  {
   "cell_type": "markdown",
   "metadata": {},
   "source": [
    "Interesting... Time to look at the model but with TTS"
   ]
  },
  {
   "cell_type": "code",
   "execution_count": 114,
   "metadata": {},
   "outputs": [
    {
     "data": {
      "text/plain": [
       "0.8111494819930932"
      ]
     },
     "execution_count": 114,
     "metadata": {},
     "output_type": "execute_result"
    }
   ],
   "source": [
    "X_train, X_test, y_train, y_test = train_test_split(X, y, test_size=0.3, random_state=42)\n",
    "rfc2 = RandomForestClassifier(random_state=42)\n",
    "rfc2.fit(X_train, y_train)\n",
    "test_pred = rfc2.predict(X_test)\n",
    "accuracy_score(y_test, test_pred)"
   ]
  },
  {
   "cell_type": "code",
   "execution_count": 115,
   "metadata": {},
   "outputs": [
    {
     "name": "stdout",
     "output_type": "stream",
     "text": [
      "Micro: 0.8111494819930932\n",
      "Macro: 0.45370412607035066\n",
      "Weighted: 0.7578150181365929\n"
     ]
    }
   ],
   "source": [
    "# Precision scores with different hyperparameters\n",
    "print('Micro:', precision_score(y_test, test_pred, average='micro'))\n",
    "print('Macro:', precision_score(y_test, test_pred, average='macro'))\n",
    "print('Weighted:', precision_score(y_test, test_pred, average='weighted'))"
   ]
  },
  {
   "cell_type": "code",
   "execution_count": 116,
   "metadata": {},
   "outputs": [
    {
     "name": "stdout",
     "output_type": "stream",
     "text": [
      "Micro: 0.8111494819930932\n",
      "Macro: 0.34565251057959184\n",
      "Weighted: 0.8111494819930932\n"
     ]
    }
   ],
   "source": [
    "# Recall scores with different hyperparameters\n",
    "print('Micro:', recall_score(y_test, test_pred, average='micro'))\n",
    "print('Macro:', recall_score(y_test, test_pred, average='macro'))\n",
    "print('Weighted:', recall_score(y_test, test_pred, average='weighted'))"
   ]
  },
  {
   "cell_type": "code",
   "execution_count": 175,
   "metadata": {},
   "outputs": [],
   "source": [
    "base_recall = 0.8111494819930932\n",
    "base_f1 = 0.8111494819930932"
   ]
  },
  {
   "cell_type": "code",
   "execution_count": 117,
   "metadata": {},
   "outputs": [
    {
     "name": "stdout",
     "output_type": "stream",
     "text": [
      "Micro: 0.8111494819930932\n",
      "Macro: 0.3254157590729338\n",
      "Weighted: 0.7386946393245274\n"
     ]
    }
   ],
   "source": [
    "# F1 scores with different hyperparameters\n",
    "print('Micro:', f1_score(y_test, test_pred, average='micro'))\n",
    "print('Macro:', f1_score(y_test, test_pred, average='macro'))\n",
    "print('Weighted:', f1_score(y_test, test_pred, average='weighted'))"
   ]
  },
  {
   "cell_type": "markdown",
   "metadata": {},
   "source": [
    "### Now going to eliminate the class imbalance and view the results"
   ]
  },
  {
   "cell_type": "code",
   "execution_count": 9,
   "metadata": {},
   "outputs": [],
   "source": [
    "X_r, y_r = SMOTE().fit_sample(X, y)"
   ]
  },
  {
   "cell_type": "code",
   "execution_count": 120,
   "metadata": {},
   "outputs": [],
   "source": [
    "rfc1 = RandomForestClassifier(random_state=42)"
   ]
  },
  {
   "cell_type": "code",
   "execution_count": 119,
   "metadata": {},
   "outputs": [],
   "source": [
    "X_train, X_test, y_train, y_test = train_test_split(X_r, y_r, test_size=0.2, random_state=42)"
   ]
  },
  {
   "cell_type": "code",
   "execution_count": 121,
   "metadata": {},
   "outputs": [],
   "source": [
    "rfc1.fit(X_train, y_train)\n",
    "test_pred = rfc1.predict(X_test)"
   ]
  },
  {
   "cell_type": "code",
   "execution_count": 123,
   "metadata": {},
   "outputs": [
    {
     "name": "stdout",
     "output_type": "stream",
     "text": [
      "Micro: 0.8923235758532734\n",
      "Macro: 0.8920849319893557\n",
      "Weighted: 0.8924897354839532\n"
     ]
    }
   ],
   "source": [
    "# Precision scores with different hyperparameters\n",
    "print('Micro:', precision_score(y_test, test_pred, average='micro'))\n",
    "print('Macro:', precision_score(y_test, test_pred, average='macro'))\n",
    "print('Weighted:', precision_score(y_test, test_pred, average='weighted'))"
   ]
  },
  {
   "cell_type": "code",
   "execution_count": 124,
   "metadata": {},
   "outputs": [
    {
     "name": "stdout",
     "output_type": "stream",
     "text": [
      "Micro: 0.8923235758532734\n",
      "Macro: 0.8920242442418186\n",
      "Weighted: 0.8923235758532734\n"
     ]
    }
   ],
   "source": [
    "# Recall scores with different hyperparameters\n",
    "print('Micro:', recall_score(y_test, test_pred, average='micro'))\n",
    "print('Macro:', recall_score(y_test, test_pred, average='macro'))\n",
    "print('Weighted:', recall_score(y_test, test_pred, average='weighted'))"
   ]
  },
  {
   "cell_type": "code",
   "execution_count": 176,
   "metadata": {},
   "outputs": [],
   "source": [
    "base_fix_recall = 0.8923235758532734\n",
    "base_fix_f1 = 0.8923235758532734"
   ]
  },
  {
   "cell_type": "code",
   "execution_count": 125,
   "metadata": {},
   "outputs": [
    {
     "name": "stdout",
     "output_type": "stream",
     "text": [
      "Micro: 0.8923235758532734\n",
      "Macro: 0.8919205474319316\n",
      "Weighted: 0.892273041926272\n"
     ]
    }
   ],
   "source": [
    "# F1 scores with different hyperparameters\n",
    "print('Micro:', f1_score(y_test, test_pred, average='micro'))\n",
    "print('Macro:', f1_score(y_test, test_pred, average='macro'))\n",
    "print('Weighted:', f1_score(y_test, test_pred, average='weighted'))"
   ]
  },
  {
   "cell_type": "code",
   "execution_count": 126,
   "metadata": {},
   "outputs": [
    {
     "data": {
      "text/plain": [
       "{'fit_time': array([18.88502192, 20.44651008, 19.88726401]),\n",
       " 'score_time': array([1.70779705, 1.93683672, 1.9233942 ]),\n",
       " 'test_score': array([0.75290602, 0.91586197, 0.91081514])}"
      ]
     },
     "execution_count": 126,
     "metadata": {},
     "output_type": "execute_result"
    }
   ],
   "source": [
    "rfc1.fit(X_r,y_r)\n",
    "cross_validate(rfc1, X_r, y_r, cv=3)"
   ]
  },
  {
   "cell_type": "markdown",
   "metadata": {},
   "source": [
    "### Looking into RFECV (recursive feature selection)"
   ]
  },
  {
   "cell_type": "code",
   "execution_count": 132,
   "metadata": {},
   "outputs": [],
   "source": [
    "rfc2 = RandomForestClassifier(random_state=42)\n",
    "rfc2.fit(X,y)\n",
    "rfe1 = RFECV(estimator=rfc1, step=1, min_features_to_select=10, cv=3)"
   ]
  },
  {
   "cell_type": "code",
   "execution_count": 133,
   "metadata": {},
   "outputs": [
    {
     "data": {
      "text/plain": [
       "RFECV(cv=3,\n",
       "      estimator=RandomForestClassifier(bootstrap=True, ccp_alpha=0.0,\n",
       "                                       class_weight=None, criterion='gini',\n",
       "                                       max_depth=None, max_features='auto',\n",
       "                                       max_leaf_nodes=None, max_samples=None,\n",
       "                                       min_impurity_decrease=0.0,\n",
       "                                       min_impurity_split=None,\n",
       "                                       min_samples_leaf=1, min_samples_split=2,\n",
       "                                       min_weight_fraction_leaf=0.0,\n",
       "                                       n_estimators=100, n_jobs=None,\n",
       "                                       oob_score=False, random_state=42,\n",
       "                                       verbose=0, warm_start=False),\n",
       "      min_features_to_select=10, n_jobs=None, scoring=None, step=1, verbose=0)"
      ]
     },
     "execution_count": 133,
     "metadata": {},
     "output_type": "execute_result"
    }
   ],
   "source": [
    "rfe1.fit(X,y)"
   ]
  },
  {
   "cell_type": "code",
   "execution_count": 134,
   "metadata": {},
   "outputs": [],
   "source": [
    "cols = list(X_r.columns)"
   ]
  },
  {
   "cell_type": "code",
   "execution_count": 136,
   "metadata": {},
   "outputs": [],
   "source": [
    "feature_importance = pd.DataFrame(rfe1.ranking_)\n",
    "feature_importance['variable'] = cols"
   ]
  },
  {
   "cell_type": "code",
   "execution_count": 62,
   "metadata": {},
   "outputs": [
    {
     "data": {
      "text/html": [
       "<div>\n",
       "<style scoped>\n",
       "    .dataframe tbody tr th:only-of-type {\n",
       "        vertical-align: middle;\n",
       "    }\n",
       "\n",
       "    .dataframe tbody tr th {\n",
       "        vertical-align: top;\n",
       "    }\n",
       "\n",
       "    .dataframe thead th {\n",
       "        text-align: right;\n",
       "    }\n",
       "</style>\n",
       "<table border=\"1\" class=\"dataframe\">\n",
       "  <thead>\n",
       "    <tr style=\"text-align: right;\">\n",
       "      <th></th>\n",
       "      <th>0</th>\n",
       "      <th>variable</th>\n",
       "    </tr>\n",
       "  </thead>\n",
       "  <tbody>\n",
       "    <tr>\n",
       "      <td>0</td>\n",
       "      <td>1</td>\n",
       "      <td>number_of_vehicles</td>\n",
       "    </tr>\n",
       "    <tr>\n",
       "      <td>1</td>\n",
       "      <td>1</td>\n",
       "      <td>number_of_casualties</td>\n",
       "    </tr>\n",
       "    <tr>\n",
       "      <td>2</td>\n",
       "      <td>1</td>\n",
       "      <td>day_of_week</td>\n",
       "    </tr>\n",
       "    <tr>\n",
       "      <td>3</td>\n",
       "      <td>1</td>\n",
       "      <td>time</td>\n",
       "    </tr>\n",
       "    <tr>\n",
       "      <td>4</td>\n",
       "      <td>1</td>\n",
       "      <td>road_class</td>\n",
       "    </tr>\n",
       "    <tr>\n",
       "      <td>5</td>\n",
       "      <td>1</td>\n",
       "      <td>road_type</td>\n",
       "    </tr>\n",
       "    <tr>\n",
       "      <td>6</td>\n",
       "      <td>1</td>\n",
       "      <td>speed_limit</td>\n",
       "    </tr>\n",
       "    <tr>\n",
       "      <td>7</td>\n",
       "      <td>1</td>\n",
       "      <td>junction_control</td>\n",
       "    </tr>\n",
       "    <tr>\n",
       "      <td>8</td>\n",
       "      <td>3</td>\n",
       "      <td>crossguard</td>\n",
       "    </tr>\n",
       "    <tr>\n",
       "      <td>9</td>\n",
       "      <td>1</td>\n",
       "      <td>ped_crossway</td>\n",
       "    </tr>\n",
       "    <tr>\n",
       "      <td>10</td>\n",
       "      <td>1</td>\n",
       "      <td>light_conditions</td>\n",
       "    </tr>\n",
       "    <tr>\n",
       "      <td>11</td>\n",
       "      <td>1</td>\n",
       "      <td>weather_conditions</td>\n",
       "    </tr>\n",
       "    <tr>\n",
       "      <td>12</td>\n",
       "      <td>1</td>\n",
       "      <td>road_surface_conditions</td>\n",
       "    </tr>\n",
       "    <tr>\n",
       "      <td>13</td>\n",
       "      <td>2</td>\n",
       "      <td>special_conditions_at_site</td>\n",
       "    </tr>\n",
       "    <tr>\n",
       "      <td>14</td>\n",
       "      <td>4</td>\n",
       "      <td>road_hazard</td>\n",
       "    </tr>\n",
       "    <tr>\n",
       "      <td>15</td>\n",
       "      <td>1</td>\n",
       "      <td>urban_or_rural_area</td>\n",
       "    </tr>\n",
       "    <tr>\n",
       "      <td>16</td>\n",
       "      <td>1</td>\n",
       "      <td>did_police_officer_attend_scene_of_accident</td>\n",
       "    </tr>\n",
       "    <tr>\n",
       "      <td>17</td>\n",
       "      <td>1</td>\n",
       "      <td>vehicle_type</td>\n",
       "    </tr>\n",
       "    <tr>\n",
       "      <td>18</td>\n",
       "      <td>5</td>\n",
       "      <td>trailer</td>\n",
       "    </tr>\n",
       "    <tr>\n",
       "      <td>19</td>\n",
       "      <td>1</td>\n",
       "      <td>vehicle_activity</td>\n",
       "    </tr>\n",
       "    <tr>\n",
       "      <td>20</td>\n",
       "      <td>1</td>\n",
       "      <td>in_restricted_lane</td>\n",
       "    </tr>\n",
       "    <tr>\n",
       "      <td>21</td>\n",
       "      <td>1</td>\n",
       "      <td>vehicle_action</td>\n",
       "    </tr>\n",
       "    <tr>\n",
       "      <td>22</td>\n",
       "      <td>1</td>\n",
       "      <td>vehicle_loc_post_impact</td>\n",
       "    </tr>\n",
       "    <tr>\n",
       "      <td>23</td>\n",
       "      <td>1</td>\n",
       "      <td>impact_type</td>\n",
       "    </tr>\n",
       "    <tr>\n",
       "      <td>24</td>\n",
       "      <td>6</td>\n",
       "      <td>was_vehicle_left_hand_drive?</td>\n",
       "    </tr>\n",
       "    <tr>\n",
       "      <td>25</td>\n",
       "      <td>1</td>\n",
       "      <td>journey_purpose_of_driver</td>\n",
       "    </tr>\n",
       "    <tr>\n",
       "      <td>26</td>\n",
       "      <td>1</td>\n",
       "      <td>sex_of_driver</td>\n",
       "    </tr>\n",
       "    <tr>\n",
       "      <td>27</td>\n",
       "      <td>1</td>\n",
       "      <td>age_driver</td>\n",
       "    </tr>\n",
       "    <tr>\n",
       "      <td>28</td>\n",
       "      <td>1</td>\n",
       "      <td>propulsion</td>\n",
       "    </tr>\n",
       "    <tr>\n",
       "      <td>29</td>\n",
       "      <td>1</td>\n",
       "      <td>age_of_vehicle</td>\n",
       "    </tr>\n",
       "    <tr>\n",
       "      <td>30</td>\n",
       "      <td>1</td>\n",
       "      <td>socioeconomic_status</td>\n",
       "    </tr>\n",
       "    <tr>\n",
       "      <td>31</td>\n",
       "      <td>1</td>\n",
       "      <td>driver_residence</td>\n",
       "    </tr>\n",
       "    <tr>\n",
       "      <td>32</td>\n",
       "      <td>1</td>\n",
       "      <td>car_status</td>\n",
       "    </tr>\n",
       "    <tr>\n",
       "      <td>33</td>\n",
       "      <td>1</td>\n",
       "      <td>season</td>\n",
       "    </tr>\n",
       "  </tbody>\n",
       "</table>\n",
       "</div>"
      ],
      "text/plain": [
       "    0                                     variable\n",
       "0   1                           number_of_vehicles\n",
       "1   1                         number_of_casualties\n",
       "2   1                                  day_of_week\n",
       "3   1                                         time\n",
       "4   1                                   road_class\n",
       "5   1                                    road_type\n",
       "6   1                                  speed_limit\n",
       "7   1                             junction_control\n",
       "8   3                                   crossguard\n",
       "9   1                                 ped_crossway\n",
       "10  1                             light_conditions\n",
       "11  1                           weather_conditions\n",
       "12  1                      road_surface_conditions\n",
       "13  2                   special_conditions_at_site\n",
       "14  4                                  road_hazard\n",
       "15  1                          urban_or_rural_area\n",
       "16  1  did_police_officer_attend_scene_of_accident\n",
       "17  1                                 vehicle_type\n",
       "18  5                                      trailer\n",
       "19  1                             vehicle_activity\n",
       "20  1                           in_restricted_lane\n",
       "21  1                               vehicle_action\n",
       "22  1                      vehicle_loc_post_impact\n",
       "23  1                                  impact_type\n",
       "24  6                 was_vehicle_left_hand_drive?\n",
       "25  1                    journey_purpose_of_driver\n",
       "26  1                                sex_of_driver\n",
       "27  1                                   age_driver\n",
       "28  1                                   propulsion\n",
       "29  1                               age_of_vehicle\n",
       "30  1                         socioeconomic_status\n",
       "31  1                             driver_residence\n",
       "32  1                                   car_status\n",
       "33  1                                       season"
      ]
     },
     "execution_count": 62,
     "metadata": {},
     "output_type": "execute_result"
    }
   ],
   "source": [
    "feature_importance"
   ]
  },
  {
   "cell_type": "code",
   "execution_count": 66,
   "metadata": {},
   "outputs": [],
   "source": [
    "variables = feature_importance[feature_importance[0] == 1]"
   ]
  },
  {
   "cell_type": "code",
   "execution_count": 68,
   "metadata": {
    "scrolled": true
   },
   "outputs": [
    {
     "data": {
      "text/plain": [
       "29"
      ]
     },
     "execution_count": 68,
     "metadata": {},
     "output_type": "execute_result"
    }
   ],
   "source": [
    "len(variables)"
   ]
  },
  {
   "cell_type": "markdown",
   "metadata": {},
   "source": [
    "Will be using the features ranked 1 in a GridSearch for my RandomForestClassifier"
   ]
  },
  {
   "cell_type": "markdown",
   "metadata": {},
   "source": [
    "---"
   ]
  },
  {
   "cell_type": "markdown",
   "metadata": {},
   "source": [
    "### Re-running base RFC and then tuning via GridSearchCV"
   ]
  },
  {
   "cell_type": "code",
   "execution_count": 10,
   "metadata": {},
   "outputs": [],
   "source": [
    "# slim_Xr is the base model with the base model RFE selected variables\n",
    "slim_Xr = X_r[['number_of_vehicles','number_of_casualties','day_of_week','time','road_class',\n",
    "               'road_type', 'speed_limit', 'junction_control', 'ped_crossway', 'light_conditions',\n",
    "               'weather_conditions', 'road_surface_conditions', 'urban_or_rural_area',\n",
    "               'did_police_officer_attend_scene_of_accident', 'vehicle_type','vehicle_activity',\n",
    "               'in_restricted_lane', 'vehicle_action', 'vehicle_loc_post_impact', 'impact_type',\n",
    "               'journey_purpose_of_driver', 'sex_of_driver','age_driver', 'propulsion',\n",
    "               'age_of_vehicle', 'socioeconomic_status', 'driver_residence', 'car_status', 'season']]\n",
    "X_train, X_test, y_train, y_test = train_test_split(slim_Xr, y_r, test_size=0.2, random_state=42)\n",
    "rfc3 = RandomForestClassifier(random_state=42)\n",
    "rfc3.fit(X_train, y_train)\n",
    "rfe1_pred = rfc3.predict(X_test)"
   ]
  },
  {
   "cell_type": "code",
   "execution_count": 138,
   "metadata": {
    "scrolled": true
   },
   "outputs": [
    {
     "name": "stdout",
     "output_type": "stream",
     "text": [
      "Micro: 0.8938722215474311\n",
      "Macro: 0.8935628602924558\n",
      "Weighted: 0.8938722215474311\n"
     ]
    }
   ],
   "source": [
    "# Recall scores over different hyper parameters\n",
    "print('Micro:', recall_score(y_test, rfe1_pred, average='micro'))\n",
    "print('Macro:', recall_score(y_test, rfe1_pred, average='macro'))\n",
    "print('Weighted:', recall_score(y_test, rfe1_pred, average='weighted'))"
   ]
  },
  {
   "cell_type": "code",
   "execution_count": 139,
   "metadata": {},
   "outputs": [
    {
     "name": "stdout",
     "output_type": "stream",
     "text": [
      "Micro: 0.8938722215474311\n",
      "Macro: 0.8935166959770694\n",
      "Weighted: 0.893867800238051\n"
     ]
    }
   ],
   "source": [
    "# F1 scores over different hyper parameters\n",
    "print('Micro:', f1_score(y_test, rfe1_pred, average='micro'))\n",
    "print('Macro:', f1_score(y_test, rfe1_pred, average='macro'))\n",
    "print('Weighted:', f1_score(y_test, rfe1_pred, average='weighted'))"
   ]
  },
  {
   "cell_type": "code",
   "execution_count": 177,
   "metadata": {},
   "outputs": [],
   "source": [
    "base_trim_recall = 0.8938722215474311\n",
    "base_trim_f1 = 0.8938722215474311"
   ]
  },
  {
   "cell_type": "markdown",
   "metadata": {},
   "source": [
    "Seems that my base model has improved in the area I wanted it to. My goal is to make sure that the model classifies the incident as a serious incident. I would rather have the model tell local authorities that there was a serious incident and have them show up to be fortunately surprised that the accident was actually very minor, than to undermine the event."
   ]
  },
  {
   "cell_type": "code",
   "execution_count": 11,
   "metadata": {},
   "outputs": [],
   "source": [
    "feature_review = pd.DataFrame(rfc3.feature_importances_,index = X_train.columns,\n",
    "                                   columns=['importance']).sort_values('importance',\n",
    "                                                                       ascending=False)"
   ]
  },
  {
   "cell_type": "code",
   "execution_count": 18,
   "metadata": {},
   "outputs": [],
   "source": [
    "variables = list(feature_review.index)\n",
    "imps = list(feature_review['importance'])"
   ]
  },
  {
   "cell_type": "code",
   "execution_count": 26,
   "metadata": {},
   "outputs": [],
   "source": [
    "index = list(range(0,29))\n",
    "feats = pd.DataFrame(index)"
   ]
  },
  {
   "cell_type": "code",
   "execution_count": 27,
   "metadata": {},
   "outputs": [],
   "source": [
    "feats['variables'] = variables\n",
    "feats['importance'] = imps"
   ]
  },
  {
   "cell_type": "code",
   "execution_count": 33,
   "metadata": {},
   "outputs": [
    {
     "data": {
      "image/png": "[encoded data removed]",
      "text/plain": [
       "<Figure size 1008x576 with 1 Axes>"
      ]
     },
     "metadata": {
      "needs_background": "light"
     },
     "output_type": "display_data"
    }
   ],
   "source": [
    "fig, ax = plt.subplots(figsize=(14,8))\n",
    "ax = sns.barplot(x=list(feats['variables']), y=feats['importance'], palette='PRGn')    \n",
    "ax.set_xticklabels(ax.get_xticklabels(),\n",
    "                      rotation=45, horizontalalignment='right')\n",
    "plt.xlabel('Predictor', size=20)\n",
    "plt.ylabel('Importance', size=20)\n",
    "plt.title('Feature Importance of RandomForestClassifier', size=26)\n",
    "plt.show()"
   ]
  },
  {
   "cell_type": "markdown",
   "metadata": {},
   "source": [
    "Could hypothesize about what might happen to the model if I reduced some of the noise by removing features of low importance."
   ]
  },
  {
   "cell_type": "code",
   "execution_count": 152,
   "metadata": {},
   "outputs": [],
   "source": [
    "param_grid = {\n",
    "    'n_estimators': [50, 100],\n",
    "    'criterion':['gini', 'entropy'],\n",
    "    'min_samples_leaf':[2,4],\n",
    "    'min_samples_split':[3,5],\n",
    "    'bootstrap': [True, False]\n",
    "}"
   ]
  },
  {
   "cell_type": "code",
   "execution_count": 153,
   "metadata": {},
   "outputs": [
    {
     "data": {
      "text/plain": [
       "GridSearchCV(cv=5, error_score=nan,\n",
       "             estimator=RandomForestClassifier(bootstrap=True, ccp_alpha=0.0,\n",
       "                                              class_weight=None,\n",
       "                                              criterion='gini', max_depth=None,\n",
       "                                              max_features='auto',\n",
       "                                              max_leaf_nodes=None,\n",
       "                                              max_samples=None,\n",
       "                                              min_impurity_decrease=0.0,\n",
       "                                              min_impurity_split=None,\n",
       "                                              min_samples_leaf=1,\n",
       "                                              min_samples_split=2,\n",
       "                                              min_weight_fraction_leaf=0.0,\n",
       "                                              n_estimators=100, n_jobs=None,\n",
       "                                              oob_score=False, random_state=42,\n",
       "                                              verbose=0, warm_start=False),\n",
       "             iid='deprecated', n_jobs=-1,\n",
       "             param_grid={'bootstrap': [True, False],\n",
       "                         'criterion': ['gini', 'entropy'],\n",
       "                         'min_samples_leaf': [2, 4],\n",
       "                         'min_samples_split': [3, 5],\n",
       "                         'n_estimators': [50, 100]},\n",
       "             pre_dispatch='2*n_jobs', refit=True, return_train_score=False,\n",
       "             scoring=None, verbose=0)"
      ]
     },
     "execution_count": 153,
     "metadata": {},
     "output_type": "execute_result"
    }
   ],
   "source": [
    "# Instantiate a GridSearch to tune model\n",
    "gridsearch = GridSearchCV(estimator=rfc3, param_grid=param_grid, cv=5, n_jobs=-1)\n",
    "gridsearch.fit(slim_Xr, y_r)"
   ]
  },
  {
   "cell_type": "code",
   "execution_count": 154,
   "metadata": {
    "scrolled": false
   },
   "outputs": [
    {
     "data": {
      "text/plain": [
       "{'bootstrap': False,\n",
       " 'criterion': 'entropy',\n",
       " 'min_samples_leaf': 2,\n",
       " 'min_samples_split': 3,\n",
       " 'n_estimators': 100}"
      ]
     },
     "execution_count": 154,
     "metadata": {},
     "output_type": "execute_result"
    }
   ],
   "source": [
    "gridsearch.best_params_"
   ]
  },
  {
   "cell_type": "markdown",
   "metadata": {},
   "source": [
    "### Best params\n",
    "* criterion = 'entropy'\n",
    "* min_samples_leaf = 2\n",
    "* min_samples_split = 3"
   ]
  },
  {
   "cell_type": "code",
   "execution_count": 159,
   "metadata": {},
   "outputs": [],
   "source": [
    "X_train, X_test, y_train, y_test = train_test_split(slim_Xr, y_r, random_state=42, test_size=0.5)"
   ]
  },
  {
   "cell_type": "code",
   "execution_count": 160,
   "metadata": {},
   "outputs": [
    {
     "data": {
      "text/plain": [
       "RandomForestClassifier(bootstrap=True, ccp_alpha=0.0, class_weight=None,\n",
       "                       criterion='entropy', max_depth=None, max_features='auto',\n",
       "                       max_leaf_nodes=None, max_samples=None,\n",
       "                       min_impurity_decrease=0.0, min_impurity_split=None,\n",
       "                       min_samples_leaf=2, min_samples_split=3,\n",
       "                       min_weight_fraction_leaf=0.0, n_estimators=100,\n",
       "                       n_jobs=-1, oob_score=False, random_state=42, verbose=0,\n",
       "                       warm_start=False)"
      ]
     },
     "execution_count": 160,
     "metadata": {},
     "output_type": "execute_result"
    }
   ],
   "source": [
    "rfc_ref = RandomForestClassifier(criterion = 'entropy', min_samples_split=3, min_samples_leaf=2,\n",
    "                                random_state=42, n_jobs=-1)\n",
    "rfc_ref.fit(X_train, y_train)"
   ]
  },
  {
   "cell_type": "code",
   "execution_count": 161,
   "metadata": {},
   "outputs": [],
   "source": [
    "refined_pred = rfc_ref.predict(X_test)"
   ]
  },
  {
   "cell_type": "code",
   "execution_count": 162,
   "metadata": {
    "scrolled": false
   },
   "outputs": [
    {
     "name": "stdout",
     "output_type": "stream",
     "text": [
      "Recall Micro: 0.8704587690850125\n",
      "Recall Macro: 0.8702373763278181\n",
      "Recall Weighted: 0.8704587690850125\n",
      "F1 Micro: 0.8704587690850126\n",
      "F1 Macro: 0.8696963394269472\n",
      "F1 Weighted: 0.8699203638081878\n"
     ]
    }
   ],
   "source": [
    "# Recall scores with different hyperparameters\n",
    "print('Recall Micro:', recall_score(y_test, refined_pred, average='micro'))\n",
    "print('Recall Macro:', recall_score(y_test, refined_pred, average='macro'))\n",
    "print('Recall Weighted:', recall_score(y_test, refined_pred, average='weighted'))\n",
    "# F1 scores with different hyperparameters\n",
    "print('F1 Micro:', f1_score(y_test, refined_pred, average='micro'))\n",
    "print('F1 Macro:', f1_score(y_test, refined_pred, average='macro'))\n",
    "print('F1 Weighted:', f1_score(y_test, refined_pred, average='weighted'))"
   ]
  },
  {
   "cell_type": "code",
   "execution_count": 178,
   "metadata": {},
   "outputs": [],
   "source": [
    "refined_recall = 0.8704587690850125\n",
    "refined_f1 = 0.8704587690850126"
   ]
  },
  {
   "cell_type": "markdown",
   "metadata": {},
   "source": [
    "Going to try to remove some features and see the performance."
   ]
  },
  {
   "cell_type": "code",
   "execution_count": 163,
   "metadata": {},
   "outputs": [
    {
     "name": "stdout",
     "output_type": "stream",
     "text": [
      "Recall Micro: 0.875088060245354\n",
      "Recall Macro: 0.8743345370829078\n",
      "Recall Weighted: 0.875088060245354\n",
      "F1 Micro: 0.8750880602453539\n",
      "F1 Macro: 0.8738291030756761\n",
      "F1 Weighted: 0.8745531750845708\n"
     ]
    }
   ],
   "source": [
    "slim_Xrn = slim_Xr.copy()\n",
    "slim_Xrn.drop(columns=['age_driver'], axis=1, inplace=True)\n",
    "X_train, X_test, y_train, y_test = train_test_split(slim_Xrn, y_r, random_state=42)\n",
    "rfc_ref = RandomForestClassifier(criterion = 'entropy', min_samples_split=3, min_samples_leaf=2,\n",
    "                                random_state=42, n_jobs=-1)\n",
    "rfc_ref.fit(X_train, y_train)\n",
    "refined_pred = rfc_ref.predict(X_test)\n",
    "# Recall scores with different hyperparameters\n",
    "print('Recall Micro:', recall_score(y_test, refined_pred, average='micro'))\n",
    "print('Recall Macro:', recall_score(y_test, refined_pred, average='macro'))\n",
    "print('Recall Weighted:', recall_score(y_test, refined_pred, average='weighted'))\n",
    "# F1 scores with different hyperparameters\n",
    "print('F1 Micro:', f1_score(y_test, refined_pred, average='micro'))\n",
    "print('F1 Macro:', f1_score(y_test, refined_pred, average='macro'))\n",
    "print('F1 Weighted:', f1_score(y_test, refined_pred, average='weighted'))"
   ]
  },
  {
   "cell_type": "code",
   "execution_count": 164,
   "metadata": {},
   "outputs": [],
   "source": [
    "slim_Xrn.drop(columns=['road_surface_conditions', 'light_conditions','urban_or_rural_area',\n",
    "                       'driver_residence', 'vehicle_loc_post_impact', 'weather_conditions',\n",
    "                       'vehicle_action', 'in_restricted_lane'], axis=1, inplace=True)"
   ]
  },
  {
   "cell_type": "code",
   "execution_count": 165,
   "metadata": {},
   "outputs": [
    {
     "name": "stdout",
     "output_type": "stream",
     "text": [
      "Recall Micro: 0.8648609255435443\n",
      "Recall Macro: 0.8640337596766926\n",
      "Recall Weighted: 0.8648609255435443\n",
      "F1 Micro: 0.8648609255435442\n",
      "F1 Macro: 0.8633544713691474\n",
      "F1 Weighted: 0.8641159681206193\n"
     ]
    }
   ],
   "source": [
    "X_train, X_test, y_train, y_test = train_test_split(slim_Xrn, y_r, random_state=42)\n",
    "rfc_ref = RandomForestClassifier(criterion = 'entropy', min_samples_split=3, min_samples_leaf=2,\n",
    "                                random_state=42, n_jobs=-1)\n",
    "rfc_ref.fit(X_train, y_train)\n",
    "refined_pred = rfc_ref.predict(X_test)\n",
    "# Recall scores with different hyperparameters\n",
    "print('Recall Micro:', recall_score(y_test, refined_pred, average='micro'))\n",
    "print('Recall Macro:', recall_score(y_test, refined_pred, average='macro'))\n",
    "print('Recall Weighted:', recall_score(y_test, refined_pred, average='weighted'))\n",
    "# F1 scores with different hyperparameters\n",
    "print('F1 Micro:', f1_score(y_test, refined_pred, average='micro'))\n",
    "print('F1 Macro:', f1_score(y_test, refined_pred, average='macro'))\n",
    "print('F1 Weighted:', f1_score(y_test, refined_pred, average='weighted'))"
   ]
  },
  {
   "cell_type": "markdown",
   "metadata": {},
   "source": [
    "Can't seem to break it!"
   ]
  },
  {
   "cell_type": "code",
   "execution_count": 182,
   "metadata": {},
   "outputs": [
    {
     "data": {
      "image/png": "[encoded data removed]",
      "text/plain": [
       "<Figure size 1008x576 with 1 Axes>"
      ]
     },
     "metadata": {
      "needs_background": "light"
     },
     "output_type": "display_data"
    }
   ],
   "source": [
    "fig, ax = plt.subplots(figsize=(14,8))\n",
    "ax = sns.barplot(x=['base_recall','base_fix_recall', 'base_trim_recall',\n",
    "                        'refined_recall'],\n",
    "                 y=[base_recall, base_fix_recall, base_trim_recall, refined_recall], palette='PRGn')    \n",
    "ax.set_xticklabels(ax.get_xticklabels(),rotation=45, horizontalalignment='right')\n",
    "plt.xlabel('MODEL RUN', size=20)\n",
    "plt.ylabel('RECALL SCORE', size=20)\n",
    "plt.title('RECALL SCORE OVER THE EVOLUTION\\nOF RANDOMFORESTCLASSIFIER MODEL', size=26)\n",
    "plt.show()"
   ]
  },
  {
   "cell_type": "code",
   "execution_count": 183,
   "metadata": {},
   "outputs": [
    {
     "data": {
      "image/png": "[encoded data removed]",
      "text/plain": [
       "<Figure size 1008x576 with 1 Axes>"
      ]
     },
     "metadata": {
      "needs_background": "light"
     },
     "output_type": "display_data"
    }
   ],
   "source": [
    "fig, ax = plt.subplots(figsize=(14,8))\n",
    "ax = sns.barplot(x=['base_f1','base_fix_f1', 'base_trim_f1',\n",
    "                        'refined_f1'],\n",
    "                 y=[base_f1, base_fix_f1, base_trim_f1, refined_f1], palette='PRGn')    \n",
    "ax.set_xticklabels(ax.get_xticklabels(),rotation=45, horizontalalignment='right')\n",
    "plt.xlabel('MODEL RUN', size=20)\n",
    "plt.ylabel('F1 SCORE', size=20)\n",
    "plt.title('F1 SCORE OVER THE EVOLUTION\\nOF RANDOMFORESTCLASSIFIER MODEL', size=26)\n",
    "plt.show()"
   ]
  },
  {
   "cell_type": "code",
   "execution_count": null,
   "metadata": {},
   "outputs": [],
   "source": []
  }
 ],
 "metadata": {
  "kernelspec": {
   "display_name": "Python 3",
   "language": "python",
   "name": "python3"
  },
  "language_info": {
   "codemirror_mode": {
    "name": "ipython",
    "version": 3
   },
   "file_extension": ".py",
   "mimetype": "text/x-python",
   "name": "python",
   "nbconvert_exporter": "python",
   "pygments_lexer": "ipython3",
   "version": "3.7.4"
  }
 },
 "nbformat": 4,
 "nbformat_minor": 2
}
